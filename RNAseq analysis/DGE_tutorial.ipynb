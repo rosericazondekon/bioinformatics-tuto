{
 "cells": [
  {
   "cell_type": "markdown",
   "metadata": {},
   "source": [
    "# Differential Gene Expression Analysis\n",
    "*by Roseric Azondekon*\n",
    "\n",
    "**04/01/2019**"
   ]
  },
  {
   "cell_type": "markdown",
   "metadata": {},
   "source": [
    "<br/>In a previous tutorial, we showed you how to download and process RNA-seq FASTQ files for read alignment on a reference sequence, and for read quantification. In this tutorial, we will show you how to conduct Differential Gene Expression (DGE) analysis using the `DESeq2`, `edgeR`, and `limma-voom` package.\n",
    "\n",
    "We set our working directory to the `tuto` folder created in our first tutorial."
   ]
  },
  {
   "cell_type": "code",
   "execution_count": null,
   "metadata": {},
   "outputs": [],
   "source": [
    "setwd('./tuto')"
   ]
  },
  {
   "cell_type": "markdown",
   "metadata": {},
   "source": [
    "Now, let's install all the required packages for this tutorial."
   ]
  },
  {
   "cell_type": "code",
   "execution_count": null,
   "metadata": {},
   "outputs": [],
   "source": [
    "# Indicate package repositories to R...\n",
    "repositories <- c(\"https://cloud.r-project.org\", \n",
    "                   \"https://bioconductor.org/packages/3.7/bioc\",\n",
    "                   \"https://bioconductor.org/packages/3.7/data/annotation\", \n",
    "                   \"https://bioconductor.org/packages/3.7/data/experiment\",\n",
    "                   \"https://www.stats.ox.ac.uk/pub/RWin\", \n",
    "                   \"http://www.omegahat.net/R\", \n",
    "                   \"https://R-Forge.R-project.org\",\n",
    "                   \"https://www.rforge.net\", \n",
    "                   \"https://cloud.r-project.org\", \n",
    "                   \"http://www.bioconductor.org\",\n",
    "                   \"http://www.stats.ox.ac.uk/pub/RWin\")\n",
    "\n",
    "# Package list to download\n",
    "packages <- c(\"vsn\", \"UpSetR\", \"gplots\", \"NMF\", \"org.Hs.eg.db\", \n",
    "              \"pheatmap\", \"tximport\", \"readr\",\"edgeR\", \"biomaRt\",\n",
    "              \"VennDiagram\", \"plyr\", \"dplyr\",\"DESeq2\", \"AnnotationDbi\",\n",
    "              \"Biobase\", \"ensembldb\", \"ggpubr\", \"ggplot2\", \"limma\", \"magrittr\")\n",
    "\n",
    "# Install and load missing packages\n",
    "new.packages <- packages[!(packages %in% installed.packages()[,\"Package\"])]\n",
    "\n",
    "if(length(new.packages)){\n",
    "    install.packages(new.packages, repos = repositories)\n",
    "}\n",
    "\n",
    "lapply(packages, require, character.only = TRUE)"
   ]
  },
  {
   "cell_type": "markdown",
   "metadata": {},
   "source": [
    "Let's load the `samples.txt` file which contains our samples information."
   ]
  },
  {
   "cell_type": "code",
   "execution_count": null,
   "metadata": {},
   "outputs": [],
   "source": [
    "samples <- read.table(\"samples.txt\")\n",
    "head(samples)"
   ]
  },
  {
   "cell_type": "markdown",
   "metadata": {},
   "source": [
    "We can see that our samples names are contained in the 5th column of the `samples` table. We will use that information as our sample names.\n",
    "\n",
    "The 9 RNA-seq samples are respectively from 3 new-born, 3 middle-aged, and 3 long-lived individuals. We represent that information in the `sampleTable` variable as follows:"
   ]
  },
  {
   "cell_type": "code",
   "execution_count": null,
   "metadata": {},
   "outputs": [],
   "source": [
    "conditions <- factor(rep(c(\"new_born\", \"middle_aged\", \"long_lived\"), each = 3))\n",
    "sampleTable <- data.frame(condition = conditions)\n",
    "rownames(sampleTable) <- samples$V5\n",
    "sampleTable"
   ]
  },
  {
   "cell_type": "markdown",
   "metadata": {},
   "source": [
    "Now that we have downloaded and loaded all the required packages and samples information, we can import the read counts into R."
   ]
  },
  {
   "cell_type": "markdown",
   "metadata": {},
   "source": [
    "<br/>"
   ]
  },
  {
   "cell_type": "markdown",
   "metadata": {},
   "source": [
    "# 1. Prepare data for DGE analysis from `STAR` feature counts data"
   ]
  },
  {
   "cell_type": "markdown",
   "metadata": {},
   "source": [
    "## 1.1. Importing read counts data to `R` from `STAR` output"
   ]
  },
  {
   "cell_type": "markdown",
   "metadata": {},
   "source": [
    "Remember that the read counts data from STAR were saved in the `featureCounts_results.txt` file inside the `read_counts` folder."
   ]
  },
  {
   "cell_type": "code",
   "execution_count": null,
   "metadata": {},
   "outputs": [],
   "source": [
    "# get the table of read counts\n",
    "readcounts <- read.table(\"read_counts/featureCounts_results.txt\", header = TRUE)\n",
    "\n",
    "# table overview\n",
    "head(readcounts)"
   ]
  },
  {
   "cell_type": "code",
   "execution_count": null,
   "metadata": {},
   "outputs": [],
   "source": [
    "# the gene IDs should be stored as row.names\n",
    "row.names(readcounts) <- readcounts$Geneid\n",
    "\n",
    "# exclude all columns that do not contain read counts\n",
    "readcounts <- readcounts[, -c(1:6)]\n",
    "\n",
    "head(readcounts)"
   ]
  },
  {
   "cell_type": "code",
   "execution_count": null,
   "metadata": {},
   "outputs": [],
   "source": [
    "# give meaningful sample names\n",
    "names(readcounts) <- samples$V5\n",
    "head(readcounts)"
   ]
  },
  {
   "cell_type": "markdown",
   "metadata": {},
   "source": [
    "## 1.2. Preparing a DESeqDataSet for use with DESeq2"
   ]
  },
  {
   "cell_type": "code",
   "execution_count": null,
   "metadata": {},
   "outputs": [],
   "source": [
    "dds_star <- DESeqDataSetFromMatrix(readcounts, sampleTable, ~condition)"
   ]
  },
  {
   "cell_type": "code",
   "execution_count": null,
   "metadata": {},
   "outputs": [],
   "source": [
    "# remove genes without any counts\n",
    "dds_star <- dds_star[ rowSums(counts(dds_star)) > 0, ]"
   ]
  },
  {
   "cell_type": "markdown",
   "metadata": {},
   "source": [
    "The `dds_star` object is now ready for the `DESeq()` function. For more, check the see DESeq2 vignette."
   ]
  },
  {
   "cell_type": "code",
   "execution_count": null,
   "metadata": {},
   "outputs": [],
   "source": [
    "# Inspect DESeq dataset\n",
    "colData(dds_star) %>% head"
   ]
  },
  {
   "cell_type": "code",
   "execution_count": null,
   "metadata": {},
   "outputs": [],
   "source": [
    "# investigate different library sizes\n",
    "colSums(counts(dds_star))"
   ]
  },
  {
   "cell_type": "markdown",
   "metadata": {},
   "source": [
    "Our read counts data table is now ready for the downstream DGE analysis. Next let's show how to import transcript-level estimates into R from the quantification files generated by `salmon`."
   ]
  },
  {
   "cell_type": "markdown",
   "metadata": {},
   "source": [
    "# 2. Importing transcript-level estimates to `R` from `salmon` output"
   ]
  },
  {
   "cell_type": "markdown",
   "metadata": {},
   "source": [
    "To import the transcript-level estimates, we need a gene annotation table for *Homo sapiens*. Such a table can be obtained from the `org.Hs.eg.db` R package."
   ]
  },
  {
   "cell_type": "code",
   "execution_count": null,
   "metadata": {},
   "outputs": [],
   "source": [
    "# get gene annotation table for Homo sapiens\n",
    "tx2g <- select(org.Hs.eg.db,\n",
    "               keys = keys(org.Hs.eg.db),\n",
    "               columns = c(\"REFSEQ\",\"SYMBOL\",\"GENENAME\"))"
   ]
  },
  {
   "cell_type": "code",
   "execution_count": null,
   "metadata": {},
   "outputs": [],
   "source": [
    "tx2g <- tx2g[, -1]\n",
    "colnames(tx2g) <- c(\"TXNAME\", \"GENEID\", \"GENENAME\")"
   ]
  },
  {
   "cell_type": "code",
   "execution_count": null,
   "metadata": {},
   "outputs": [],
   "source": [
    "head(tx2g)"
   ]
  },
  {
   "cell_type": "markdown",
   "metadata": {},
   "source": [
    "Let's find the paths to the quantification. Recall that in the previous tutorial, we saved all the quantification files in the `quants` folder."
   ]
  },
  {
   "cell_type": "code",
   "execution_count": null,
   "metadata": {},
   "outputs": [],
   "source": [
    "# search for '.sf' file starting from the current working directory\n",
    "files <- file.path('.', \n",
    "                   list.files(pattern = \"\\\\.sf$\", recursive = TRUE))\n",
    "files"
   ]
  },
  {
   "cell_type": "markdown",
   "metadata": {},
   "source": [
    "We now can import all the quantification files using the `tximport()` function provided by the `tximport` package."
   ]
  },
  {
   "cell_type": "code",
   "execution_count": null,
   "metadata": {},
   "outputs": [],
   "source": [
    "txi <- tximport(files, type = \"salmon\", tx2gene = tx2g,ignoreTxVersion=T)"
   ]
  },
  {
   "cell_type": "code",
   "execution_count": null,
   "metadata": {},
   "outputs": [],
   "source": [
    "# give meaningful sample names\n",
    "colnames(txi[['counts']]) <- samples$V5\n",
    "colnames(txi[['length']]) <- samples$V5\n",
    "colnames(txi[['abundance']]) <- samples$V5"
   ]
  },
  {
   "cell_type": "code",
   "execution_count": null,
   "metadata": {},
   "outputs": [],
   "source": [
    "names(txi)"
   ]
  },
  {
   "cell_type": "markdown",
   "metadata": {},
   "source": [
    "Let's look at the `txi` object data."
   ]
  },
  {
   "cell_type": "code",
   "execution_count": null,
   "metadata": {},
   "outputs": [],
   "source": [
    "# Looking at the counts table\n",
    "head(txi$counts)"
   ]
  },
  {
   "cell_type": "markdown",
   "metadata": {},
   "source": [
    "## 2.1. Preparing a DESeqDataSet for use with DESeq2"
   ]
  },
  {
   "cell_type": "code",
   "execution_count": null,
   "metadata": {},
   "outputs": [],
   "source": [
    "dds_salmon <- DESeqDataSetFromTximport(txi, sampleTable, ~condition)"
   ]
  },
  {
   "cell_type": "code",
   "execution_count": null,
   "metadata": {},
   "outputs": [],
   "source": [
    "# remove genes without any counts\n",
    "dds_salmon <- dds_salmon[ rowSums(counts(dds_salmon)) > 0, ]"
   ]
  },
  {
   "cell_type": "markdown",
   "metadata": {},
   "source": [
    "The `dds_salmon` object is now ready for the `DESeq()` function. For more, check the see DESeq2 vignette."
   ]
  },
  {
   "cell_type": "code",
   "execution_count": null,
   "metadata": {},
   "outputs": [],
   "source": [
    "# Inspect DESeq dataset\n",
    "colData(dds_salmon) %>% head"
   ]
  },
  {
   "cell_type": "code",
   "execution_count": null,
   "metadata": {},
   "outputs": [],
   "source": [
    "# investigate different library sizes\n",
    "colSums(counts(dds_salmon)) # should be the same as colSums(txi$counts)"
   ]
  },
  {
   "cell_type": "code",
   "execution_count": null,
   "metadata": {},
   "outputs": [],
   "source": [
    "# investigate different library sizes\n",
    "colSums(txi$counts) # should be the same as colSums(counts(dds))"
   ]
  },
  {
   "cell_type": "markdown",
   "metadata": {},
   "source": [
    "From this point, we choose to demonstrate the DGE analysis with `dds_star`. To make it easy to switch between `dds_star` and `dds_salmon`, we provide the following statement which you may change as you wish:"
   ]
  },
  {
   "cell_type": "code",
   "execution_count": null,
   "metadata": {},
   "outputs": [],
   "source": [
    "dds <- dds_star # dds <- dds_salmon"
   ]
  },
  {
   "cell_type": "markdown",
   "metadata": {},
   "source": [
    "# 3. Normalization and Transformation"
   ]
  },
  {
   "cell_type": "markdown",
   "metadata": {},
   "source": [
    "# 3.1. Normalization for sequencing depth differences"
   ]
  },
  {
   "cell_type": "code",
   "execution_count": null,
   "metadata": {},
   "outputs": [],
   "source": [
    "# calculate the size factor and add it to the data set\n",
    "dds <- estimateSizeFactors(dds)\n",
    "sizeFactors(dds)"
   ]
  },
  {
   "cell_type": "code",
   "execution_count": null,
   "metadata": {},
   "outputs": [],
   "source": [
    "# counts() allows you to immediately retrieve the normalized read counts\n",
    "counts.sf_normalized  <- counts(dds, normalized = TRUE)"
   ]
  },
  {
   "cell_type": "code",
   "execution_count": null,
   "metadata": {},
   "outputs": [],
   "source": [
    "# inspect counts.sf_normalized\n",
    "head(counts.sf_normalized)"
   ]
  },
  {
   "cell_type": "markdown",
   "metadata": {},
   "source": [
    "## 3.2. Transformation of sequencing-depth-normalized read counts"
   ]
  },
  {
   "cell_type": "code",
   "execution_count": null,
   "metadata": {},
   "outputs": [],
   "source": [
    "# transform size-factor normalized read counts \n",
    "# to log2 scale using a pseudocount of 1\n",
    "log.norm.counts  <- log2(counts.sf_normalized + 1)"
   ]
  },
  {
   "cell_type": "markdown",
   "metadata": {},
   "source": [
    "Let's see how the log2 transformation compares to the normalized read counts"
   ]
  },
  {
   "cell_type": "code",
   "execution_count": null,
   "metadata": {},
   "outputs": [],
   "source": [
    "# first, boxplots of non-transformed read counts (one per sample)\n",
    "boxplot(counts.sf_normalized, \n",
    "        notch = TRUE, \n",
    "        main = \"untransformed  read  counts\", \n",
    "        ylab = \"read  counts\")"
   ]
  },
  {
   "cell_type": "code",
   "execution_count": null,
   "metadata": {},
   "outputs": [],
   "source": [
    "# box plots of log2-transformed read counts\n",
    "boxplot(log.norm.counts, \n",
    "        notch = TRUE, \n",
    "        main = \"log2 -transformed  read  counts\", \n",
    "        ylab = \"log2(read  counts)\")"
   ]
  },
  {
   "cell_type": "markdown",
   "metadata": {},
   "source": [
    "## 3.3. Visually exploring normalized read counts"
   ]
  },
  {
   "cell_type": "markdown",
   "metadata": {},
   "source": [
    "Let's get an impression of how similar read counts are between replicates"
   ]
  },
  {
   "cell_type": "code",
   "execution_count": null,
   "metadata": {},
   "outputs": [],
   "source": [
    "plot(log.norm.counts[, 1:2], cex = 0.1, \n",
    "     main = \"Normalized log2 (read counts)\")"
   ]
  },
  {
   "cell_type": "markdown",
   "metadata": {},
   "source": [
    "Checking for heteroskedasticity..."
   ]
  },
  {
   "cell_type": "code",
   "execution_count": null,
   "metadata": {},
   "outputs": [],
   "source": [
    "msd_plot <- meanSdPlot(log.norm.counts, ranks = FALSE, plot = FALSE)\n",
    "msd_plot$gg + ggtitle(\"sequencing  depth  normalized  log2(read  counts)\") + \n",
    "              ylab(\"standard  deviation\")"
   ]
  },
  {
   "cell_type": "markdown",
   "metadata": {},
   "source": [
    "A clear bump on the left-hand side in the figure will indicate that the variance is higher for smaller read counts compared to the variance for greater read counts."
   ]
  },
  {
   "cell_type": "markdown",
   "metadata": {},
   "source": [
    "## 3.4. Transformation of read counts including variance shrinkage"
   ]
  },
  {
   "cell_type": "markdown",
   "metadata": {},
   "source": [
    "Let's reduce the amount of heteroskedasticity by using the dispersion-mean trend that can be observed for the entire data set as a reference."
   ]
  },
  {
   "cell_type": "code",
   "execution_count": null,
   "metadata": {},
   "outputs": [],
   "source": [
    "# obtain regularized log-transformed values\n",
    "DESeq.rlog  <- rlog(dds, blind = TRUE)\n",
    "rlog.norm.counts  <- assay(DESeq.rlog)\n",
    "head(rlog.norm.counts)"
   ]
  },
  {
   "cell_type": "code",
   "execution_count": null,
   "metadata": {},
   "outputs": [],
   "source": [
    "# mean-sd plot for rlog-transformed data\n",
    "msd_plot  <- meanSdPlot(rlog.norm.counts,\n",
    "                        ranks = FALSE,\n",
    "                        plot = FALSE)\n",
    "\n",
    "msd_plot$gg + ggtitle(\"rlog -transformed  read  counts\") + \n",
    "              ylab(\"standard  deviation\")"
   ]
  },
  {
   "cell_type": "markdown",
   "metadata": {},
   "source": [
    "Let's re-examine how similar the rlog−transformed read counts are between replicates."
   ]
  },
  {
   "cell_type": "code",
   "execution_count": null,
   "metadata": {},
   "outputs": [],
   "source": [
    "plot(rlog.norm.counts[, 1:2], cex = 0.1, \n",
    "     main = \"Normalized log2(read counts)\")"
   ]
  },
  {
   "cell_type": "markdown",
   "metadata": {},
   "source": [
    "## 3.5. Exploring global read count patterns"
   ]
  },
  {
   "cell_type": "markdown",
   "metadata": {},
   "source": [
    "An important step before diving into the identification of differentially expressed genes is to check whether\n",
    "expectations about basic global patterns are met. The similarity of expression patterns can be assessed with various methods:\n",
    "- Pairwise correlation\n",
    "- Hierarchical clustering, and\n",
    "- Principal Components Analysis (PCA)"
   ]
  },
  {
   "cell_type": "markdown",
   "metadata": {},
   "source": [
    "Assessing the similarity of RNA-seq samples in a pair-wise fashion..."
   ]
  },
  {
   "cell_type": "code",
   "execution_count": null,
   "metadata": {},
   "outputs": [],
   "source": [
    "cor(counts.sf_normalized, method = \"pearson\")"
   ]
  },
  {
   "cell_type": "markdown",
   "metadata": {},
   "source": [
    "Hierarchical clustering can be used to determine whether the different sample types can be separated in an unsupervised fashion (i.e., samples of different conditions are more dissimilar to each other than replicates within the same condition)."
   ]
  },
  {
   "cell_type": "code",
   "execution_count": null,
   "metadata": {},
   "outputs": [],
   "source": [
    "# cor() calculates the correlation between columns of a matrix\n",
    "distance.m_rlog  <- as.dist(1 - cor(rlog.norm.counts, method = \"pearson\"))\n",
    "\n",
    "# plot() can directly interpret the output of hclust()\n",
    "plot(hclust(distance.m_rlog), \n",
    "     labels = colnames(rlog.norm.counts),\n",
    "     main = \"rlog transformed read counts\\ndistance: Pearson correlation\")"
   ]
  },
  {
   "cell_type": "markdown",
   "metadata": {},
   "source": [
    "PCA is a complementary approach to determine whether samples display greater variability between experimental conditions than between replicates of the same treatment is principal components analysis.\n",
    "\n",
    "The goal is to find groups of genes that have certain patterns of expression across different samples, so that the information from thousands of genes is captured and represented by a reduced number of groups.\n",
    "\n",
    "In base R, the function prcomp() can be used to perform PCA:"
   ]
  },
  {
   "cell_type": "code",
   "execution_count": null,
   "metadata": {},
   "outputs": [],
   "source": [
    "pc <- prcomp(t(rlog.norm.counts))\n",
    "plot(pc$x[, 1], pc$x[, 2],\n",
    "     col = colData(dds)[, 1],\n",
    "     main = \"PCA of seq.depth normalized\\n and rlog -transformed read counts\")"
   ]
  },
  {
   "cell_type": "markdown",
   "metadata": {},
   "source": [
    "PCA can also be performed using the R package `DESeq2` which offers a convenience function based on\n",
    "`ggplot2` to do PCA directly on a `DESeqDataSet`:"
   ]
  },
  {
   "cell_type": "code",
   "execution_count": null,
   "metadata": {},
   "outputs": [],
   "source": [
    "# PCA\n",
    "P <- plotPCA(DESeq.rlog)\n",
    "# plot  cosmetics\n",
    "P <- P + theme_bw() + ggtitle(\"Rlog  transformed  counts\")\n",
    "print(P)"
   ]
  },
  {
   "cell_type": "markdown",
   "metadata": {},
   "source": [
    "# 4. Differential Gene Expression Analysis (DGE)"
   ]
  },
  {
   "cell_type": "markdown",
   "metadata": {},
   "source": [
    "Let's recall that the two basic tasks of all DGE tools are:\n",
    "1. Estimate the *magnitude* of differential expression between two or more conditions based on read counts from replicated samples, i.e., calculate the fold change of read counts, taking into account the differences in sequencing depth and variability.\n",
    "2. Estimate the *significance* of the difference and correct for multiple testing."
   ]
  },
  {
   "cell_type": "markdown",
   "metadata": {},
   "source": [
    "When it comes to DGE analysis, R offers various tools among which, the best performing are:\n",
    "- `edgeR`(recommended for experiments with fewer than 12 replicates)\n",
    "- `DESeq/DESeq2` (better control of false positives and more conservative than `edgeR`)\n",
    "- `limma-voom` (also more conservative than `edgeR`)\n",
    "\n",
    "All three packages rely on a *negative binomial* model to fit the observed read counts to arrive at the estimate for the difference."
   ]
  },
  {
   "cell_type": "markdown",
   "metadata": {},
   "source": [
    "## 4.1. Running DGE analysis with DESeq2:"
   ]
  },
  {
   "cell_type": "code",
   "execution_count": null,
   "metadata": {},
   "outputs": [],
   "source": [
    "# DESeq uses the levels of the condition\n",
    "# to determine the order of the comparison\n",
    "str(colData(dds)$condition)"
   ]
  },
  {
   "cell_type": "code",
   "execution_count": null,
   "metadata": {},
   "outputs": [],
   "source": [
    "# set 'new_born' as the first-level factor\n",
    "colData(dds)$condition <- relevel(colData(dds)$condition, \"new_born\")"
   ]
  },
  {
   "cell_type": "markdown",
   "metadata": {},
   "source": [
    "Now, we can run the DGE analysis using the `DESeq()` functiuon provided by the `DESeq2` R package:"
   ]
  },
  {
   "cell_type": "code",
   "execution_count": null,
   "metadata": {},
   "outputs": [],
   "source": [
    "# Running DGE analysis using the DESeq() function\n",
    "dds2 <- DESeq(dds)"
   ]
  },
  {
   "cell_type": "markdown",
   "metadata": {},
   "source": [
    "The `results()` function lets you extract the base means across samples, moderated log2 fold changes, standard errors, test statistics etc. for every gene."
   ]
  },
  {
   "cell_type": "code",
   "execution_count": null,
   "metadata": {},
   "outputs": [],
   "source": [
    "DGE.results  <- results(dds2, independentFiltering = TRUE, alpha = 0.05)\n",
    "summary(DGE.results)"
   ]
  },
  {
   "cell_type": "code",
   "execution_count": null,
   "metadata": {},
   "outputs": [],
   "source": [
    "# the  DESeqResult  object  can  basically  be  handled  like a data.frame\n",
    "head(DGE.results)"
   ]
  },
  {
   "cell_type": "code",
   "execution_count": null,
   "metadata": {},
   "outputs": [],
   "source": [
    "# number of differentially expressed genes\n",
    "table(DGE.results$padj < 0.05)"
   ]
  },
  {
   "cell_type": "code",
   "execution_count": null,
   "metadata": {},
   "outputs": [],
   "source": [
    "# list all differentially expressed genes\n",
    "rownames(subset(DGE.results, padj < 0.05))"
   ]
  },
  {
   "cell_type": "markdown",
   "metadata": {},
   "source": [
    "The `DESeq()` function is a wrapper around the functions `estimateSizeFactors()`, `stimateDispersions()`, and `nbinomWaldTest()`, the DGE analysis can alternatively be performed as follows:"
   ]
  },
  {
   "cell_type": "code",
   "execution_count": null,
   "metadata": {},
   "outputs": [],
   "source": [
    "# sequencing depth normalization between the samples\n",
    "dds3 <- estimateSizeFactors(dds)\n",
    "\n",
    "# gene-wise dispersion estimates across all samples\n",
    "dds3 <- estimateDispersions(dds3)\n",
    "\n",
    "# this fits a negative binomial GLM and \n",
    "# applies Wald statistics to each gene\n",
    "dds3 <- nbinomWaldTest(dds3)"
   ]
  },
  {
   "cell_type": "markdown",
   "metadata": {},
   "source": [
    "### 4.1.1.  Exploratory plots following DGE analysis with DESeq2"
   ]
  },
  {
   "cell_type": "markdown",
   "metadata": {},
   "source": [
    "A simple and fast way of inspecting how frequently certain values are present in a data set is to plot a histogram of p-values:"
   ]
  },
  {
   "cell_type": "code",
   "execution_count": null,
   "metadata": {},
   "outputs": [],
   "source": [
    "hist(DGE.results$pvalue, \n",
    "     col = \"grey\", \n",
    "     border = \"white\",\n",
    "     xlab = \"\", \n",
    "     ylab = \"\", \n",
    "     main = \"frequencies  of p-values\")"
   ]
  },
  {
   "cell_type": "markdown",
   "metadata": {},
   "source": [
    "MA plots provide a general view of the relationship between the expression change between condition"
   ]
  },
  {
   "cell_type": "code",
   "execution_count": null,
   "metadata": {},
   "outputs": [],
   "source": [
    "plotMA(DGE.results,\n",
    "       alpha = 0.05,  \n",
    "       main = \"new-born vs. middle-aged vs long-lived conditions\", \n",
    "       ylim = c(-4,4))"
   ]
  },
  {
   "cell_type": "markdown",
   "metadata": {},
   "source": [
    "Another way to provide a general view of the relationship between the expression change between condition is to use a volcano plot:"
   ]
  },
  {
   "cell_type": "code",
   "execution_count": null,
   "metadata": {},
   "outputs": [],
   "source": [
    "# Volcano plot for a threshold of adjusted pval=0.05 and logFC=7\n",
    "with(DGE.results, \n",
    "     plot(log2FoldChange, -log10(padj), pch = 20, \n",
    "          main = \"Volcano plot\", xlim = c(-10,10)))\n",
    "\n",
    "with(subset(DGE.results, padj < 0.05), \n",
    "     points(log2FoldChange,-log10(padj), pch = 20, col = \"blue\"))\n",
    "\n",
    "with(subset(DGE.results, padj < 0.05 & abs(log2FoldChange) > 7), \n",
    "     points(log2FoldChange, -log10(padj), pch = 20, col = \"red\"))"
   ]
  },
  {
   "cell_type": "markdown",
   "metadata": {},
   "source": [
    "Heatmaps are a popular means to visualize the expression values across the individual samples."
   ]
  },
  {
   "cell_type": "code",
   "execution_count": null,
   "metadata": {},
   "outputs": [],
   "source": [
    "# aheatmap needs a matrix of values, e.g., a matrix of DE genes  \n",
    "# with the transformed read counts for each replicate\n",
    "# sort the results according to the adjusted p-value\n",
    "# DGE.results.sorted <- DGE.results[order(DGE.results$padj), ]\n",
    "\n",
    "# sort the results according to the log2FoldChange\n",
    "DGE.results.sorted <- DGE.results[order(DGE.results$log2FoldChange), ]\n",
    "\n",
    "# identify genes with the desired adjusted p-value cut -off\n",
    "# DGEgenes  <- rownames(subset(DGE.results.sorted , padj < 0.05))\n",
    "\n",
    "# identify genes with the desired cut -off\n",
    "DGEgenes <- rownames(subset(DGE.results.sorted, abs(log2FoldChange) > 7))\n",
    "length(DGEgenes)"
   ]
  },
  {
   "cell_type": "code",
   "execution_count": null,
   "metadata": {},
   "outputs": [],
   "source": [
    "# extract the normalized read counts for DE genes into a matrix\n",
    "hm.mat_DGEgenes <- log.norm.counts[DGEgenes, ]"
   ]
  },
  {
   "cell_type": "code",
   "execution_count": null,
   "metadata": {},
   "outputs": [],
   "source": [
    "# scale the read counts per gene to emphasize \n",
    "# the sample type-specific differences\n",
    "aheatmap(hm.mat_DGEgenes, \n",
    "         Rowv = TRUE,\n",
    "         Colv = TRUE, \n",
    "         distfun = \"euclidean\", \n",
    "         hclustfun = \"average\", \n",
    "         scale = \"row\") \n",
    "# values are transformed into distances from the center\n",
    "# of the row-specific average: \n",
    "# (actual value-mean of the group)/standard deviation"
   ]
  },
  {
   "cell_type": "markdown",
   "metadata": {},
   "source": [
    "## 4.2. Running DGE analysis with edgeR"
   ]
  },
  {
   "cell_type": "code",
   "execution_count": null,
   "metadata": {},
   "outputs": [],
   "source": [
    "# We need to specify the sample types, similarly to what we did for DESeq2.\n",
    "sample_info.edger <- sampleTable$condition\n",
    "sample_info.edger <- relevel(sample_info.edger , ref = \"new_born\")\n",
    "\n",
    "# DGEList() is the function that converts the count matrix into an edgeR object.\n",
    "# readcounts <- txi$counts # uncomment this line when data from salmon\n",
    "edgeR.DGElist <- DGEList(counts = readcounts , group = sample_info.edger)\n",
    "keep <- rowSums( cpm(edgeR.DGElist) >= 1) >= 5\n",
    "edgeR.DGElist <- edgeR.DGElist[keep ,]\n",
    "edgeR.DGElist <- calcNormFactors(edgeR.DGElist , method = \"TMM\")"
   ]
  },
  {
   "cell_type": "code",
   "execution_count": null,
   "metadata": {},
   "outputs": [],
   "source": [
    "# check  the  result\n",
    "edgeR.DGElist[1:5,]"
   ]
  },
  {
   "cell_type": "markdown",
   "metadata": {},
   "source": [
    "The package `edgeR` recommends removing genes with almost no coverage. In order to determine a sensible cutoff, we plot a histogram of counts per million calculated by `edgeR`’s `cpm()` function."
   ]
  },
  {
   "cell_type": "code",
   "execution_count": null,
   "metadata": {},
   "outputs": [],
   "source": [
    "# get an impression of the coverage across samples\n",
    "hist(log2(rowSums(cpm(edgeR.DGElist))))"
   ]
  },
  {
   "cell_type": "code",
   "execution_count": null,
   "metadata": {},
   "outputs": [],
   "source": [
    "# specify the design setup - the design matrix looks a bit intimitating, \n",
    "# but if you just focus on the formula [~sample_info.edger] \n",
    "# you can see that it's exactly what we used for DESeq2, too\n",
    "design  <- model.matrix(~sample_info.edger)\n",
    "\n",
    "# estimate the dispersion for all read counts across all samples\n",
    "edgeR.DGElist  <- estimateDisp(edgeR.DGElist, design)\n",
    "\n",
    "# fit the negative binomial model\n",
    "edger_fit  <- glmFit(edgeR.DGElist, design)\n",
    "\n",
    "# perform the testing for every gene using the neg. binomial model\n",
    "edger_lrt  <- glmLRT(edger_fit)"
   ]
  },
  {
   "cell_type": "code",
   "execution_count": null,
   "metadata": {},
   "outputs": [],
   "source": [
    "# extract results from edger_lrt$table\n",
    "DGE.results_edgeR  <- topTags(edger_lrt, n = Inf, # to  retrieve  all  genes\n",
    "                              sort.by = \"PValue\", \n",
    "                              adjust.method = \"BH\")"
   ]
  },
  {
   "cell_type": "code",
   "execution_count": null,
   "metadata": {},
   "outputs": [],
   "source": [
    "DGE.results_edgeR[1:10,]"
   ]
  },
  {
   "cell_type": "code",
   "execution_count": null,
   "metadata": {},
   "outputs": [],
   "source": [
    "DGE.res_edgeR.sort <- DGE.results_edgeR$table[order(DGE.results_edgeR$table$FDR), ]\n",
    "\n",
    "# identify genes with the desired cut-off\n",
    "DGEgenes_edgeR  <- rownames(subset(DGE.res_edgeR.sort, FDR <= 0.05))\n",
    "length(DGEgenes_edgeR)"
   ]
  },
  {
   "cell_type": "markdown",
   "metadata": {},
   "source": [
    "Fit a quasi-likelihood negative binomial generalized log-linear model to count data:"
   ]
  },
  {
   "cell_type": "code",
   "execution_count": null,
   "metadata": {},
   "outputs": [],
   "source": [
    "fit2 <- glmQLFit(edgeR.DGElist, design)\n",
    "\n",
    "# Conduct genewise statistical tests for a given coefficient or contrast.\n",
    "qlf2 <- glmQLFTest(fit2,coef=2)\n",
    "sm<-topTags(qlf2, n = Inf, # to  retrieve  all  genes\n",
    "            sort.by = \"PValue\", \n",
    "            adjust.method = \"BH\")\n",
    "\n",
    "# explore results table\n",
    "sm[1:10,]"
   ]
  },
  {
   "cell_type": "code",
   "execution_count": null,
   "metadata": {},
   "outputs": [],
   "source": [
    "DGEgenes_edgeR.QL <- rownames(subset(sm$table, abs(logFC) > 7))\n",
    "length(DGEgenes_edgeR.QL)"
   ]
  },
  {
   "cell_type": "code",
   "execution_count": null,
   "metadata": {},
   "outputs": [],
   "source": [
    "hist(sm$table$PValue, col = \"grey\", border = \"white\",\n",
    "     xlab = \"\", ylab = \"\", main = \"frequencies  of p-values\")"
   ]
  },
  {
   "cell_type": "markdown",
   "metadata": {},
   "source": [
    "Another way to provide a general view of the relationship between the expression change between condition is to use a volcano plot:"
   ]
  },
  {
   "cell_type": "code",
   "execution_count": null,
   "metadata": {},
   "outputs": [],
   "source": [
    "# Volcano plot for a threshold of PValue=0.05 and logFC=7\n",
    "with(sm$table, plot(logFC, -log10(PValue), pch = 20, \n",
    "                    main = \"Volcano plot\", xlim = c(-10,10)))\n",
    "\n",
    "with(subset(sm$table, PValue < 0.05), \n",
    "     points(logFC,-log10(PValue), pch = 20, col = \"blue\"))\n",
    "\n",
    "with(subset(sm$table, PValue < 0.05 & abs(logFC) > 7), \n",
    "     points(logFC, -log10(PValue), pch = 20, col = \"red\"))"
   ]
  },
  {
   "cell_type": "markdown",
   "metadata": {},
   "source": [
    "Let's generate the heatmap of the differentially expressed determined by the quasi-likelihood negative binomial generalized log-linear model."
   ]
  },
  {
   "cell_type": "code",
   "execution_count": null,
   "metadata": {},
   "outputs": [],
   "source": [
    "# extract the normalized read counts for DE genes into a matrix\n",
    "hm.mat_DGEgenes.edgeR <- log.norm.counts[DGEgenes_edgeR.QL, ]\n",
    "\n",
    "# plot the normalized read counts of DE genes sorted by the adjusted p-value\n",
    "#aheatmap(hm.mat_DGEgenes.edgeR, Rowv = NA, Colv = NA)"
   ]
  },
  {
   "cell_type": "code",
   "execution_count": null,
   "metadata": {},
   "outputs": [],
   "source": [
    "# scale the read counts per gene to emphasize \n",
    "# the sample type-specific differences\n",
    "aheatmap(hm.mat_DGEgenes.edgeR, \n",
    "         Rowv = TRUE,\n",
    "         Colv = TRUE, \n",
    "         distfun = \"euclidean\", \n",
    "         hclustfun = \"average\", \n",
    "         scale = \"row\") \n",
    "# values are transformed into distances from the center\n",
    "# of the row-specific average: \n",
    "# (actual value - mean of the group)/standard deviation"
   ]
  },
  {
   "cell_type": "markdown",
   "metadata": {},
   "source": [
    "## 4.3. Running DGE analysis with `limma-voom`"
   ]
  },
  {
   "cell_type": "code",
   "execution_count": null,
   "metadata": {},
   "outputs": [],
   "source": [
    "# limma also needs a design matrix, just like edgeR\n",
    "design  <- model.matrix(~sample_info.edger)\n",
    "\n",
    "# transform the count  data to log2-counts -per -million and estimate\n",
    "# the mean-variance relationship, which is used to compute weights\n",
    "# for each count -- this is supposed to make the read counts\n",
    "# amenable to be used with linear models\n",
    "design  <- model.matrix(~sample_info.edger)\n",
    "rownames(design) <- colnames(edgeR.DGElist)\n",
    "voomTransformed  <- voom(edgeR.DGElist, design, plot=F)"
   ]
  },
  {
   "cell_type": "code",
   "execution_count": null,
   "metadata": {},
   "outputs": [],
   "source": [
    "# fit a linear model for each gene\n",
    "voomed.fitted  <- lmFit(voomTransformed, design = design)\n",
    "\n",
    "# compute moderated t-statistics, moderated F-statistics,\n",
    "# and log-odds of differential expression\n",
    "voomed.fitted  <- eBayes(voomed.fitted)"
   ]
  },
  {
   "cell_type": "code",
   "execution_count": null,
   "metadata": {},
   "outputs": [],
   "source": [
    "# extract gene list with logFC and statistical measures\n",
    "colnames(design) # check how the coefficient is named"
   ]
  },
  {
   "cell_type": "code",
   "execution_count": null,
   "metadata": {},
   "outputs": [],
   "source": [
    "DGE.results_limma  <- topTable(voomed.fitted,\n",
    "                               coef = \"sample_info.edgermiddle_aged\",\n",
    "                               number = Inf, \n",
    "                               adjust.method = \"BH\",\n",
    "                               sort.by = \"logFC\")"
   ]
  },
  {
   "cell_type": "code",
   "execution_count": null,
   "metadata": {},
   "outputs": [],
   "source": [
    "head(DGE.results_limma[DGE.results_limma$logFC>3,])"
   ]
  },
  {
   "cell_type": "code",
   "execution_count": null,
   "metadata": {},
   "outputs": [],
   "source": [
    "DGE.results_lima.sorted  <- DGE.results_limma[order(DGE.results_limma$adj.P.Val), ]"
   ]
  },
  {
   "cell_type": "code",
   "execution_count": null,
   "metadata": {},
   "outputs": [],
   "source": [
    "# identify genes with the desired cut-off\n",
    "DGEgenes_lima  <- rownames(subset(DGE.results_lima.sorted , abs(logFC) > 7))\n",
    "length(DGEgenes_lima)"
   ]
  },
  {
   "cell_type": "code",
   "execution_count": null,
   "metadata": {},
   "outputs": [],
   "source": [
    "# extract the normalized read counts for DE genes into a matrix\n",
    "hm.mat_DGEgenes.lima  <- log.norm.counts[DGEgenes_lima, ]\n",
    "\n",
    "# plot the normalized read counts of DE genes sorted by the adjusted p-value\n",
    "#aheatmap(hm.mat_DGEgenes.edgeR , Rowv = NA, Colv = NA)"
   ]
  },
  {
   "cell_type": "code",
   "execution_count": null,
   "metadata": {},
   "outputs": [],
   "source": [
    "# scale the read counts per gene to emphasize \n",
    "# the sample type-specific differences\n",
    "aheatmap(hm.mat_DGEgenes.lima, \n",
    "         Rowv = TRUE,\n",
    "         Colv = TRUE, \n",
    "         distfun = \"euclidean\", \n",
    "         hclustfun = \"average\", \n",
    "         scale = \"row\") \n",
    "# values are transformed into distances from the center\n",
    "# of the row -specific  average: \n",
    "# (actual value - mean of the group)/standard deviation"
   ]
  },
  {
   "cell_type": "markdown",
   "metadata": {},
   "source": [
    "## 4.4. Venn Diagram and Upset plot"
   ]
  },
  {
   "cell_type": "code",
   "execution_count": null,
   "metadata": {},
   "outputs": [],
   "source": [
    "# make a Venn diagram\n",
    "DE_list <- list(edger = rownames(subset(DGE.results_edgeR$table, abs(logFC) > 7))\n",
    "                 ,edger_QL = rownames(subset(sm$table, abs(logFC) > 7))\n",
    "                 ,deseq2 = rownames(subset(DGE.results, abs(log2FoldChange) > 7))\n",
    "                 ,limma = rownames(subset(DGE.results_limma, abs(logFC) > 7))\n",
    "                )\n",
    "\n",
    "gplots::venn(DE_list)"
   ]
  },
  {
   "cell_type": "code",
   "execution_count": null,
   "metadata": {},
   "outputs": [],
   "source": [
    "# more sophisticated venn alternative, especially if you \n",
    "# are comparing  more than 3 lists\n",
    "DE_gns  <- UpSetR::fromList(DE_list)\n",
    "UpSetR::upset(DE_gns, order.by = \"freq\")"
   ]
  },
  {
   "cell_type": "code",
   "execution_count": null,
   "metadata": {},
   "outputs": [],
   "source": [
    "# list the Differentially Expressed genes \n",
    "# by categories displayed in the Venn Diagram\n",
    "out <- gplots::venn(DE_list, show.plot = F)\n",
    "out"
   ]
  },
  {
   "cell_type": "markdown",
   "metadata": {},
   "source": [
    "<br/>"
   ]
  },
  {
   "cell_type": "markdown",
   "metadata": {},
   "source": [
    "The Venn Diagram and the Upset plot conclude our tutorial on DGE analysis. You may want to check the documentation of each of the packages used in this tutorial."
   ]
  }
 ],
 "metadata": {
  "kernelspec": {
   "display_name": "R",
   "language": "R",
   "name": "ir"
  },
  "language_info": {
   "codemirror_mode": "r",
   "file_extension": ".r",
   "mimetype": "text/x-r-source",
   "name": "R",
   "pygments_lexer": "r",
   "version": "3.5.1"
  }
 },
 "nbformat": 4,
 "nbformat_minor": 2
}
