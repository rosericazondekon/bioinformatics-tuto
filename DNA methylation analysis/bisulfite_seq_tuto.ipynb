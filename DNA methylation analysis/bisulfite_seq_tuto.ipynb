{
 "cells": [
  {
   "cell_type": "markdown",
   "metadata": {},
   "source": [
    "# DNA methylation tutorial: Data download and Alignment\n",
    "*by Roseric Azondekon, PhD*\n",
    "\n",
    "**05/30/2019**"
   ]
  },
  {
   "cell_type": "markdown",
   "metadata": {},
   "source": [
    "In this tutorial, we show you how to download raw Bisulfite-seq DNA methylation sequence data from the European instance of the SRA, which can be accessed via https://www.ebi.ac.uk/ena. At ENA, the sequencing reads are directly available in FASTQ or SRA formats, which will be explained below.\n",
    "\n",
    "For this tutorial, we need `FastQC`, `multiQC`, the `SRA toolkit`, a powerful suite of tools designed to interact with SAM and BAM files called `samtools`, and the `bismark` aligner to align the Bisulfite-seq reads to the reference genome. All the above mentioned tools need to be installed and referenced in the environment variable `PATH`. Let's first check if this requirement is met:"
   ]
  },
  {
   "cell_type": "code",
   "execution_count": null,
   "metadata": {
    "scrolled": true
   },
   "outputs": [],
   "source": [
    "fastqc --version"
   ]
  },
  {
   "cell_type": "code",
   "execution_count": null,
   "metadata": {},
   "outputs": [],
   "source": [
    "multiqc --version"
   ]
  },
  {
   "cell_type": "code",
   "execution_count": null,
   "metadata": {},
   "outputs": [],
   "source": [
    "fastq-dump --version"
   ]
  },
  {
   "cell_type": "code",
   "execution_count": null,
   "metadata": {},
   "outputs": [],
   "source": [
    "samtools --version"
   ]
  },
  {
   "cell_type": "code",
   "execution_count": null,
   "metadata": {},
   "outputs": [],
   "source": [
    "bismark --version"
   ]
  },
  {
   "cell_type": "markdown",
   "metadata": {},
   "source": [
    "If at least one of the above commands produces an error, please, check your installation of the tool and try again.\n",
    "\n",
    "Now let's create a working directory for our DNA methylation bisulfite-seq project."
   ]
  },
  {
   "cell_type": "code",
   "execution_count": null,
   "metadata": {},
   "outputs": [],
   "source": [
    "mkdir -p tuto && cd tuto"
   ]
  },
  {
   "cell_type": "markdown",
   "metadata": {},
   "source": [
    "# 1. Data Download"
   ]
  },
  {
   "cell_type": "markdown",
   "metadata": {},
   "source": [
    "To download a set of SRA files:\n",
    "1. Go to https://www.ebi.ac.uk/ena.\n",
    "2. Search for the accession number of the project, e.g., SRP041828 (should be indicated in the published\n",
    "paper).\n",
    "3. There are several ways to start the download, here we show you how to do it through the command line interface on GNU/Linux.\n",
    "    - copy the link’s address of the \"SRA files\" column (right mouse click), go to the command line, move to the target directory, type: `wget < link copied from the ENA website >`\n",
    "    - If there are many samples as it is the case for the project referenced here (accession number: SRP041828), you can download the summary of the sample information from ENA by right-clicking on “TEXT\" and copying the link location."
   ]
  },
  {
   "cell_type": "code",
   "execution_count": null,
   "metadata": {},
   "outputs": [],
   "source": [
    "wget -O all_samples.txt \"https://www.ebi.ac.uk/ena/data/warehouse\\\n",
    "/filereport?accession=PRJNA246552&result=read_run&fields=study_accession,\\\n",
    "sample_accession,secondary_sample_accession,experiment_accession,\\\n",
    "run_accession,tax_id,scientific_name,instrument_model,library_layout,\\\n",
    "fastq_ftp,fastq_galaxy,submitted_ftp,submitted_galaxy,sra_ftp,sra_galaxy,\\\n",
    "cram_index_ftp,cram_index_galaxy&download=txt\""
   ]
  },
  {
   "cell_type": "markdown",
   "metadata": {},
   "source": [
    "You may try to open the `all_samples.txt` file with LibreOffice or Excel to view it.\n",
    "For this project, we are only interested in the paired-end first 4 Bisulfite-seq samples (2 normal cells samples vs 2 breast cancer cells samples). Since the first line in `all_samples.txt` contains the header, we will generate another file containing only the first 4 lines of `all_samples.txt` with the following command:"
   ]
  },
  {
   "cell_type": "code",
   "execution_count": null,
   "metadata": {},
   "outputs": [],
   "source": [
    "sed '1d' all_samples.txt > all_samples2.txt\n",
    "head -4 all_samples2.txt > samples.txt\n",
    "rm all_samples2.txt"
   ]
  },
  {
   "cell_type": "markdown",
   "metadata": {},
   "source": [
    "Now, let's create a new folder for our SRA files."
   ]
  },
  {
   "cell_type": "code",
   "execution_count": null,
   "metadata": {},
   "outputs": [],
   "source": [
    "mkdir -p sra_files"
   ]
  },
  {
   "cell_type": "markdown",
   "metadata": {},
   "source": [
    "According to https://www.ncbi.nlm.nih.gov/books/NBK158899/, the FTP root to download files from NCBI is ftp://ftp-trace.ncbi.nih.gov/ and the remainder path follow the specific pattern `/sra/sra-instant/reads/ByRun/sra/{SRR|ERR|DRR}/<first 6 characters of accession>/<accession>/<accession>.sra`."
   ]
  },
  {
   "cell_type": "markdown",
   "metadata": {},
   "source": [
    "Notice that the accession number for the SRA files are located in the 5th column \"Run accession\" in `all_samples.txt`. We proceed to the download of the SRA files of the samples listed in `samples.txt` with the following code: (**Attention: The download may take a long time!**)"
   ]
  },
  {
   "cell_type": "code",
   "execution_count": null,
   "metadata": {},
   "outputs": [],
   "source": [
    "cut -f5 samples.txt | xargs -i bash -c \\\n",
    "        'v={}; FTPROOT=ftp://ftp-trace.ncbi.nih.gov/; \\\n",
    "               REM=sra/sra-instant/reads/ByRun/sra/; \\\n",
    "               url=${FTPROOT}${REM}${v:0:3}/${v:0:6}/${v}/${v}.sra; \\\n",
    "               wget $url -P sra_files'"
   ]
  },
  {
   "cell_type": "markdown",
   "metadata": {},
   "source": [
    "<br/>"
   ]
  },
  {
   "cell_type": "markdown",
   "metadata": {},
   "source": [
    "# 2. Converting SRA files to FASTQ files"
   ]
  },
  {
   "cell_type": "markdown",
   "metadata": {},
   "source": [
    "Now that the download is complete, let's convert the SRA files into FASTQ files with the following command:  (**Attention: This may take a long time!**)"
   ]
  },
  {
   "cell_type": "code",
   "execution_count": null,
   "metadata": {},
   "outputs": [],
   "source": [
    "cut -f5 samples.txt | xargs -i bash -c \\\n",
    "        'v={}; fastq-dump --outdir fastq/${v} --gzip \\\n",
    "                          --skip-technical --split-3 sra_files/${v}.sra'"
   ]
  },
  {
   "cell_type": "markdown",
   "metadata": {},
   "source": [
    "<br/>"
   ]
  },
  {
   "cell_type": "markdown",
   "metadata": {},
   "source": [
    "# 3. Quality Control of the FASTQ files"
   ]
  },
  {
   "cell_type": "markdown",
   "metadata": {},
   "source": [
    "Up to this point, we have all our RNA-seq FASTQ files ready for Quality Control (QC) check. This is done with the `fastqc` tools developed by the <a href=\"https://www.bioinformatics.babraham.ac.uk/projects/fastqc/\" target=\"_blank\">Babraham Institute</a>. Run the following command to perform QC check for all the samples: (**This may take some time!**)"
   ]
  },
  {
   "cell_type": "code",
   "execution_count": null,
   "metadata": {},
   "outputs": [],
   "source": [
    "cut -f5 samples.txt | xargs -i bash -c \\\n",
    "        'v={}; \\\n",
    "         mkdir -p fastqc_reports/${v}; \\\n",
    "         fastqc fastq/${v}/*fastq.gz -o fastqc_reports/${v}'"
   ]
  },
  {
   "cell_type": "markdown",
   "metadata": {},
   "source": [
    "Next, let's summarize the QC reports (for all the samples) into one unique report using `multiqc`:"
   ]
  },
  {
   "cell_type": "code",
   "execution_count": null,
   "metadata": {},
   "outputs": [],
   "source": [
    "multiqc fastqc_reports --dirs -o multiQC_report/"
   ]
  },
  {
   "cell_type": "markdown",
   "metadata": {},
   "source": [
    "Let's examine the summary `multiqc` report either by double-clicking on `multiQC_report/multiqc_report.html` or by executing the following code:"
   ]
  },
  {
   "cell_type": "code",
   "execution_count": null,
   "metadata": {},
   "outputs": [],
   "source": [
    "xdg-open multiQC_report/multiqc_report.html"
   ]
  },
  {
   "cell_type": "markdown",
   "metadata": {},
   "source": [
    "<br/>"
   ]
  },
  {
   "cell_type": "markdown",
   "metadata": {},
   "source": [
    "# 4. Read Alignment"
   ]
  },
  {
   "cell_type": "markdown",
   "metadata": {},
   "source": [
    "The assignment of sequencing reads to the most likely locus of origin is called read alignment or mapping and it is a crucial step in most types of high-throughput sequencing\n",
    "experiments.\n",
    "\n",
    "The general challenge of short read alignment is to map millions of reads accurately and in a reasonable time,\n",
    "despite the presence of sequencing errors, genomic variation and repetitive elements. The different alignment\n",
    "programs employ various strategies that are meant to speed up the process (e.g., by indexing the reference\n",
    "genome) and find a balance between mapping fidelity and error tolerance."
   ]
  },
  {
   "cell_type": "markdown",
   "metadata": {},
   "source": [
    "## 4.1. Reference genome"
   ]
  },
  {
   "cell_type": "markdown",
   "metadata": {},
   "source": [
    "Genome sequences and annotation are often generated by consortia such as (mod)ENCODE, The Mouse\n",
    "Genome Project, The Berkeley Drosophila Genome Project, and many more. The results of these efforts can\n",
    "either be downloaded from individual websites set up by the respective consortia or from more comprehensive data bases such as the one hosted by the University of California, Santa Cruz (<a href=\"https://genome.ucsc.edu/\" target=\"_blank\">UCSC</a>) or the European genome resource (<a href=\"http://www.ensembl.org\" target=\"_blank\">Ensembl</a>).\n",
    "\n",
    "Reference sequences are usually stored in plain text FASTA files that can either be compressed with the\n",
    "generic gzip command.\n",
    "\n",
    "The reference sequences file can be obtained from <a href=\"https://www.ncbi.nlm.nih.gov/genome/51\" target=\"_blank\">NCBI</a>, <a href=\"https://www.ensembl.org/info/data/ftp/index.html\" target=\"_blank\">ENSEMBL</a> or <a href=\"http://hgdownload.soe.ucsc.edu/downloads.html#human\" target=\"_blank\">UCSC Genome Browser</a>.\n",
    "\n",
    "For this DNA methylation (Bisulfite-seq) tutorial, we will align the reads against the genome (DNA) reference sequences. We obtain both the genome refernce sequences and our gene annotation files from <a href=\"http://hgdownload.cse.ucsc.edu/goldenPath/hg38/bigZips/\" target=\"_blank\">UCSC</a>. This is very important as we intend to perform all downstream DNA methylation analysis using the `methylKit` package in `R` which works nominally with UCSC genome references."
   ]
  },
  {
   "cell_type": "code",
   "execution_count": null,
   "metadata": {},
   "outputs": [],
   "source": [
    "# Download the latest human genome\n",
    "wget -P reference http://hgdownload.cse.ucsc.edu/goldenPath/hg38/bigZips/hg38.fa.gz"
   ]
  },
  {
   "cell_type": "markdown",
   "metadata": {},
   "source": [
    "## 4.2. Aligning reads using `Bismark` aligner"
   ]
  },
  {
   "cell_type": "markdown",
   "metadata": {},
   "source": [
    "### 4.2.1. Generate genome index"
   ]
  },
  {
   "cell_type": "markdown",
   "metadata": {},
   "source": [
    "**This step has to be done only once per genome type (and alignment program) may take a long time!**."
   ]
  },
  {
   "cell_type": "code",
   "execution_count": null,
   "metadata": {},
   "outputs": [],
   "source": [
    "bismark_genome_preparation --verbose ./reference"
   ]
  },
  {
   "cell_type": "markdown",
   "metadata": {},
   "source": [
    "### 4.2.2. Alignment"
   ]
  },
  {
   "cell_type": "markdown",
   "metadata": {},
   "source": [
    "This step has to be done for each individual FASTQ file.\n",
    "\n",
    "**This step may take a long time! (may take several days to complete)**"
   ]
  },
  {
   "cell_type": "code",
   "execution_count": null,
   "metadata": {},
   "outputs": [],
   "source": [
    "# execute Bismark aligner\n",
    "cut -f5 samples.txt | xargs -i bash -c \\\n",
    "'v={}; mkdir -p alignment_Bismark/${v}; \\\n",
    "bismark --parallel 8 --gzip --fastq --output_dir alignment_Bismark/${v} \\\n",
    "--genome ./reference -1 fastq/${v}/${v}_1.fastq.gz -2 fastq/${v}/${v}_2.fastq.gz'"
   ]
  },
  {
   "cell_type": "markdown",
   "metadata": {},
   "source": [
    "### 4.2.3. Sorting BAM files and converting to SAM files"
   ]
  },
  {
   "cell_type": "markdown",
   "metadata": {},
   "source": [
    "We sort sort the `BAM` files using the `samtools sort` command:"
   ]
  },
  {
   "cell_type": "code",
   "execution_count": null,
   "metadata": {},
   "outputs": [],
   "source": [
    "# Sorting the bam files and converting to \n",
    "for i in alignment_Bismark/*/*; do\n",
    "    if [ \"${i}\" != \"${i%pe.bam}\" ];then\n",
    "        samtools sort -l 0 \\\n",
    "                      -T $(dirname ${i})/$(basename ${i} \\\n",
    "                                  _1_bismark_bt2_pe.bam)_temp \\\n",
    "                      -O sam -@ 8 \\\n",
    "                      -o $(dirname ${i})/$(basename ${i} .bam).sort.sam ${i}\n",
    "    fi\n",
    "done"
   ]
  },
  {
   "cell_type": "markdown",
   "metadata": {},
   "source": [
    "Either <a href=\"https://www.bioinformatics.babraham.ac.uk/projects/download.html#seqmonk\">SeqMonk</a> or the the <a href=\"https://software.broadinstitute.org/software/igv/\" target=\"_blank\">Integrative Genomics Viewer (IGV)</a> can be used to visualize the resulting sorted `SAM` files.\n",
    "\n",
    "We will later use the `methylKit` package to import the methylation data into `R` from the sorted `SAM` files."
   ]
  },
  {
   "cell_type": "markdown",
   "metadata": {},
   "source": [
    "# 5. Methylation extraction using `Bismark` methylation extractor"
   ]
  },
  {
   "cell_type": "markdown",
   "metadata": {},
   "source": [
    "With the `bismark_methylation_extractor` command, we extract the methylation call for every single Cytosine analyzed. This process takes as input the resulting `BAM` file from `Bismark` aligner. The `bismark_methylation_extractor` command writes the position of every single Cytosine to a new output file, depending on its context (CpG, CHG or CHH), whereby methylated Cytosines are labelled as forward reads (+), non-methylated Cytosines as reverse reads (-).\n",
    "\n",
    "`SeqMonk`, a genome viewer, can be used to visualize the output files."
   ]
  },
  {
   "cell_type": "markdown",
   "metadata": {},
   "source": [
    "We store the output of the `Bismark` methylation extractor in the `methylation_data` folder."
   ]
  },
  {
   "cell_type": "markdown",
   "metadata": {},
   "source": [
    "<br/>"
   ]
  },
  {
   "cell_type": "code",
   "execution_count": null,
   "metadata": {},
   "outputs": [],
   "source": [
    "# Extract methylation data\n",
    "cut -f5 samples.txt | xargs -i bash -c \\\n",
    "        'v={}; mkdir -p bismark_methCalls/${v}; \\\n",
    "            bismark_methylation_extractor --parallel 8 \\\n",
    "                    --gzip \\\n",
    "                    --bedGraph \\\n",
    "                    --buffer_size 40G \\\n",
    "                    --merge_non_CpG \\\n",
    "                    --comprehensive \\\n",
    "                    --output bismark_methCalls/${v} alignment_Bismark/${v}/*_pe.bam'"
   ]
  },
  {
   "cell_type": "markdown",
   "metadata": {},
   "source": [
    "<br/>"
   ]
  },
  {
   "cell_type": "markdown",
   "metadata": {},
   "source": [
    "In another tutorial, we will analyze DNA methylation data from the generated sorted `SAM` files from this tutorial using the `MethylKit` package in `R`."
   ]
  }
 ],
 "metadata": {
  "kernelspec": {
   "display_name": "Bash",
   "language": "bash",
   "name": "bash"
  },
  "language_info": {
   "file_extension": ".sh",
   "help_links": [
    {
     "text": "MetaKernel Magics",
     "url": "https://github.com/calysto/metakernel/blob/master/metakernel/magics/README.md"
    }
   ],
   "mimetype": "text/x-bash",
   "name": "bash"
  }
 },
 "nbformat": 4,
 "nbformat_minor": 2
}
