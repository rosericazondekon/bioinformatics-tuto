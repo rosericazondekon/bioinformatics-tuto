{
 "cells": [
  {
   "cell_type": "markdown",
   "metadata": {},
   "source": [
    "# DNA methylation tutorial: Data Analysis\n",
    "*by Roseric Azondekon, PhD*\n",
    "\n",
    "**06/06/2019**"
   ]
  },
  {
   "cell_type": "markdown",
   "metadata": {},
   "source": [
    "<br/>In a previous tutorial, we showed you how to download and process Bisulfite-seq DNA methylation FASTQ files for read alignment on a reference sequence. In this tutorial, we show you how to run DNA methylation analysis using the `bsseq` and `dmrseq` package in `R`.\n",
    "\n",
    "We set our working directory to the `tuto` folder created in our first tutorial."
   ]
  },
  {
   "cell_type": "code",
   "execution_count": null,
   "metadata": {},
   "outputs": [],
   "source": [
    "setwd('./tuto')"
   ]
  },
  {
   "cell_type": "markdown",
   "metadata": {},
   "source": [
    "Now, let's install all the required packages for this tutorial."
   ]
  },
  {
   "cell_type": "code",
   "execution_count": null,
   "metadata": {},
   "outputs": [],
   "source": [
    "# Indicate package repositories to R...\n",
    "repositories <- c(\"https://cloud.r-project.org\", \n",
    "                   \"https://bioconductor.org/packages/3.7/bioc\",\n",
    "                   \"https://bioconductor.org/packages/3.7/data/annotation\", \n",
    "                   \"https://bioconductor.org/packages/3.7/data/experiment\",\n",
    "                   \"https://www.stats.ox.ac.uk/pub/RWin\", \n",
    "                   \"http://www.omegahat.net/R\", \n",
    "                   \"https://R-Forge.R-project.org\",\n",
    "                   \"https://www.rforge.net\", \n",
    "                   \"https://cloud.r-project.org\", \n",
    "                   \"http://www.bioconductor.org\",\n",
    "                   \"http://www.stats.ox.ac.uk/pub/RWin\")\n",
    "\n",
    "# Package list to download\n",
    "packages <- c(\"bsseq\",\"bsseqdata\",\"dmrseq\")\n",
    "\n",
    "# Install and load missing packages\n",
    "new.packages <- packages[!(packages %in% installed.packages()[,\"Package\"])]\n",
    "\n",
    "if(length(new.packages)){\n",
    "    install.packages(new.packages, repos = repositories)\n",
    "}\n",
    "\n",
    "lapply(packages, require, character.only = TRUE)"
   ]
  },
  {
   "cell_type": "markdown",
   "metadata": {},
   "source": [
    "# Obtaining methylation data from Bismark extraction methylation calls"
   ]
  },
  {
   "cell_type": "markdown",
   "metadata": {},
   "source": [
    "We read in the methylation calls directly from the `Bismark` methylation extractor files obtained from the last tutoral. The files are located within the `bismark_methCalls` folder (see previous tutorial). For that purpose, we use the `read.bismark()` function from the `bsseq` package as described below:"
   ]
  },
  {
   "cell_type": "code",
   "execution_count": null,
   "metadata": {},
   "outputs": [],
   "source": [
    "files_loc <- file.path(getwd(),'bismark_methCalls')\n",
    "samples <- list.dirs(files_loc,full.names = F,recursive = F)\n",
    "samples"
   ]
  },
  {
   "cell_type": "code",
   "execution_count": null,
   "metadata": {},
   "outputs": [],
   "source": [
    "conditions <- c(rep(c(\"normal\", \"cancer\"), each = 2))\n",
    "sampleData <- data.frame(condition = conditions)\n",
    "rownames(sampleData) <- samples\n",
    "sampleData"
   ]
  },
  {
   "cell_type": "code",
   "execution_count": null,
   "metadata": {},
   "outputs": [],
   "source": [
    "methyl_files <- list.files(files_loc, \"\\\\cov.gz$\", \n",
    "                           full.names=TRUE, recursive=TRUE)\n",
    "methyl_files"
   ]
  },
  {
   "cell_type": "code",
   "execution_count": null,
   "metadata": {},
   "outputs": [],
   "source": [
    "# Will generate specifically for this set of data, 4 variables: \n",
    "# methyl_data1, methyl_data2, methyl_data3, methyl_data4\n",
    "for(i in 1:length(methyl_files)){\n",
    "    sampleTable <- data.frame(condition = conditions[i])\n",
    "    rownames(sampleTable) <- samples[i]\n",
    "    assign(\n",
    "        paste0(\"methyl_data\",i),\n",
    "        read.bismark(methyl_files[i],\n",
    "                     loci = NULL,\n",
    "                     colData = sampleTable,\n",
    "                     rmZeroCov = FALSE,\n",
    "                     strandCollapse = TRUE,\n",
    "                     BPPARAM = bpparam(),\n",
    "                     BACKEND = \"HDF5Array\",\n",
    "                     dir = tempfile(\"BSseq\"),\n",
    "                     replace = FALSE,\n",
    "                     chunkdim = NULL,\n",
    "                     level = NULL,\n",
    "                     nThread = 8,\n",
    "                     verbose = getOption(\"verbose\"))\n",
    "    )\n",
    "}"
   ]
  },
  {
   "cell_type": "code",
   "execution_count": null,
   "metadata": {},
   "outputs": [],
   "source": [
    "methyl_data1\n",
    "methyl_data2\n",
    "methyl_data3\n",
    "methyl_data4"
   ]
  },
  {
   "cell_type": "code",
   "execution_count": null,
   "metadata": {},
   "outputs": [],
   "source": [
    "pData(methyl_data1)\n",
    "pData(methyl_data2)\n",
    "pData(methyl_data3)\n",
    "pData(methyl_data4)"
   ]
  },
  {
   "cell_type": "markdown",
   "metadata": {},
   "source": [
    "We now combine all methylation data for all 4 samples:"
   ]
  },
  {
   "cell_type": "code",
   "execution_count": null,
   "metadata": {},
   "outputs": [],
   "source": [
    "combined_data <- combine(methyl_data1, methyl_data2, methyl_data3, methyl_data4)"
   ]
  },
  {
   "cell_type": "code",
   "execution_count": null,
   "metadata": {},
   "outputs": [],
   "source": [
    "combined_data"
   ]
  },
  {
   "cell_type": "code",
   "execution_count": null,
   "metadata": {},
   "outputs": [],
   "source": [
    "pData(combined_data)"
   ]
  },
  {
   "cell_type": "markdown",
   "metadata": {},
   "source": [
    "# Smoothing"
   ]
  },
  {
   "cell_type": "markdown",
   "metadata": {},
   "source": [
    "The first step of the analysis is to smooth the data"
   ]
  },
  {
   "cell_type": "code",
   "execution_count": null,
   "metadata": {},
   "outputs": [],
   "source": [
    "combined_data.fit <- BSmooth(\n",
    "    BSseq = combined_data, \n",
    "    BPPARAM = MulticoreParam(workers = 7), \n",
    "    verbose = TRUE)"
   ]
  },
  {
   "cell_type": "markdown",
   "metadata": {},
   "source": [
    "Since the previous step is time consuming and computationally expensive, let's save the smoothed data:"
   ]
  },
  {
   "cell_type": "code",
   "execution_count": null,
   "metadata": {},
   "outputs": [],
   "source": [
    "save(combined_data.fit, file = \"combined_data_fit.rda\")"
   ]
  },
  {
   "cell_type": "markdown",
   "metadata": {},
   "source": [
    "You may load the `combined_data.fit` by running the following code:"
   ]
  },
  {
   "cell_type": "code",
   "execution_count": null,
   "metadata": {},
   "outputs": [],
   "source": [
    "load(\"combined_data_fit.rda\")"
   ]
  },
  {
   "cell_type": "code",
   "execution_count": null,
   "metadata": {},
   "outputs": [],
   "source": [
    "combined_data.fit"
   ]
  },
  {
   "cell_type": "code",
   "execution_count": null,
   "metadata": {},
   "outputs": [],
   "source": [
    "## The average coverage of CpGs on the two chromosomes\n",
    "round(colMeans(getCoverage(combined_data)), 1)"
   ]
  },
  {
   "cell_type": "code",
   "execution_count": null,
   "metadata": {},
   "outputs": [],
   "source": [
    "## Number of CpGs in two chromosomes\n",
    "length(combined_data)"
   ]
  },
  {
   "cell_type": "code",
   "execution_count": null,
   "metadata": {},
   "outputs": [],
   "source": [
    "## Number of CpGs which are covered by at least 1 read in all 4 samples\n",
    "sum(rowSums(getCoverage(combined_data) >= 1) == 4)"
   ]
  },
  {
   "cell_type": "code",
   "execution_count": null,
   "metadata": {},
   "outputs": [],
   "source": [
    "# Number of CpGs with 0 coverage in all samples\n",
    "sum(rowSums(getCoverage(combined_data)) == 0)"
   ]
  },
  {
   "cell_type": "markdown",
   "metadata": {},
   "source": [
    "# Computing t-statistics"
   ]
  },
  {
   "cell_type": "markdown",
   "metadata": {},
   "source": [
    "To avoid too many differentially methilated regions (DRMs), we remove CpGs with little or no coverage (which are likely false positives). We keep CpGs where at least 1 cancer samples and at least 1 normal samples have at least 2x in coverage."
   ]
  },
  {
   "cell_type": "code",
   "execution_count": null,
   "metadata": {},
   "outputs": [],
   "source": [
    "# which loci and sample indices to keep\n",
    "keep.index <- which(DelayedMatrixStats::rowSums2(getCoverage(combined_data, \n",
    "                                                             type=\"Cov\")==0) == 0)\n",
    "sample.index <- which(pData(combined_data)$condition %in% c(\"normal\", \"cancer\"))\n",
    "\n",
    "combined_data.filtered <- combined_data[keep.index, sample.index]"
   ]
  },
  {
   "cell_type": "code",
   "execution_count": null,
   "metadata": {},
   "outputs": [],
   "source": [
    "combined_data.filtered"
   ]
  },
  {
   "cell_type": "markdown",
   "metadata": {},
   "source": [
    "For t-statistics, we will only keep CpGs where at least 2 cancer samples and at least 2 normal samples have at least 2x in coverage."
   ]
  },
  {
   "cell_type": "code",
   "execution_count": null,
   "metadata": {},
   "outputs": [],
   "source": [
    "combined_data.cov <- getCoverage(combined_data.fit)\n",
    "keep.index2 <- which(rowSums(combined_data.cov[,\n",
    "                             combined_data$condition == \"cancer\"] >= 2) >= 2 &\n",
    "                     rowSums(combined_data.cov[, \n",
    "                             combined_data$condition == \"normal\"] >= 2) >= 2)\n",
    "length(keep.index2)"
   ]
  },
  {
   "cell_type": "code",
   "execution_count": null,
   "metadata": {},
   "outputs": [],
   "source": [
    "combined_data.fit2 <- combined_data.fit[keep.index2]"
   ]
  },
  {
   "cell_type": "markdown",
   "metadata": {},
   "source": [
    "Let's first arrange the two groups for the t-test:"
   ]
  },
  {
   "cell_type": "code",
   "execution_count": null,
   "metadata": {},
   "outputs": [],
   "source": [
    "# In grp1, we keep all the normal sample names, and\n",
    "# in grp2, all the cancer sample names\n",
    "grp1 <- rownames(sampleData)[sampleData$condition == 'normal']\n",
    "grp2 <- rownames(sampleData)[sampleData$condition == 'cancer']\n",
    "grp1\n",
    "grp2"
   ]
  },
  {
   "cell_type": "markdown",
   "metadata": {},
   "source": [
    "We now compute t-statistics with the `BSmooth.tstat` function provided by the `BSseq` R package."
   ]
  },
  {
   "cell_type": "code",
   "execution_count": null,
   "metadata": {},
   "outputs": [],
   "source": [
    "combined_data.tstat <- BSmooth.tstat(combined_data.fit2,\n",
    "                                     group1 = grp2,\n",
    "                                     group2 = grp1, \n",
    "                                     estimate.var = \"group2\",\n",
    "                                     local.correct = TRUE,\n",
    "                                     mc.cores = 8,\n",
    "                                     verbose = TRUE)"
   ]
  },
  {
   "cell_type": "code",
   "execution_count": null,
   "metadata": {},
   "outputs": [],
   "source": [
    "combined_data.tstat"
   ]
  },
  {
   "cell_type": "code",
   "execution_count": null,
   "metadata": {},
   "outputs": [],
   "source": [
    "stats <- as.data.frame(combined_data.tstat@stats)\n",
    "head(stats)"
   ]
  },
  {
   "cell_type": "markdown",
   "metadata": {},
   "source": [
    "Let's check the marginal distribution of the t-statistic:"
   ]
  },
  {
   "cell_type": "code",
   "execution_count": null,
   "metadata": {},
   "outputs": [],
   "source": [
    "plot(density(as.numeric(as.vector(stats$tstat.corrected)), \n",
    "             na.rm=T), xlim = c(-15, 15), col = \"red\", main = \"\")\n",
    "lines(density(as.numeric(as.vector(stats$tstat)), \n",
    "              na.rm=T), col = \"blue\")\n",
    "legend(\"topright\", legend=c(\"corrected\",\"uncorrected\"), \n",
    "       col=c(\"red\",\"blue\"), lty=1)"
   ]
  },
  {
   "cell_type": "markdown",
   "metadata": {},
   "source": [
    "The “blocks” of hypomethylation are clearly visible in the marginal distribution of the uncorrected t-statistics."
   ]
  },
  {
   "cell_type": "markdown",
   "metadata": {},
   "source": [
    "# Finding Differentially Methylated Regions (DMRs)"
   ]
  },
  {
   "cell_type": "markdown",
   "metadata": {},
   "source": [
    "We use the `dmrseq` function of the `dmrseq` R package to compute the DMRs."
   ]
  },
  {
   "cell_type": "code",
   "execution_count": null,
   "metadata": {},
   "outputs": [],
   "source": [
    "# run the results for a subset of 60,000 CpGs in the interest of computation time.\n",
    "# Run with a single core if it fails on multiple cores (workers=1)\n",
    "dmrs <- dmrseq(bs=combined_data.filtered[240001:300000,],\n",
    "               cutoff = 0.05,\n",
    "               BPPARAM = MulticoreParam(workers = 1),\n",
    "               testCovariate=\"condition\")"
   ]
  },
  {
   "cell_type": "code",
   "execution_count": null,
   "metadata": {},
   "outputs": [],
   "source": [
    "show(dmrs)"
   ]
  },
  {
   "cell_type": "markdown",
   "metadata": {},
   "source": [
    "## Explore how many regions were significant"
   ]
  },
  {
   "cell_type": "markdown",
   "metadata": {},
   "source": [
    "How many regions were significant at the FDR (q-value) cutoff of 0.05?"
   ]
  },
  {
   "cell_type": "code",
   "execution_count": null,
   "metadata": {},
   "outputs": [],
   "source": [
    "sum(dmrs$qval < 0.05)"
   ]
  },
  {
   "cell_type": "code",
   "execution_count": null,
   "metadata": {},
   "outputs": [],
   "source": [
    "# select just the regions below FDR 0.05 and place in a new data.frame\n",
    "sigRegions <- dmrs[dmrs$qval < 0.05,]"
   ]
  },
  {
   "cell_type": "markdown",
   "metadata": {},
   "source": [
    "## Proportion of regions with hyper-methylation"
   ]
  },
  {
   "cell_type": "code",
   "execution_count": null,
   "metadata": {},
   "outputs": [],
   "source": [
    "sum(sigRegions$stat > 0) / length(sigRegions)"
   ]
  },
  {
   "cell_type": "markdown",
   "metadata": {},
   "source": [
    "To interpret the direction of effect, since `dmrseq` uses alphabetical order of the covariate of interest, the condition `cancer` is the reference category."
   ]
  },
  {
   "cell_type": "markdown",
   "metadata": {},
   "source": [
    "## Plot DMRs"
   ]
  },
  {
   "cell_type": "code",
   "execution_count": null,
   "metadata": {},
   "outputs": [],
   "source": [
    "# get annotations for hg18\n",
    "annotation <- getAnnot(\"hg18\")"
   ]
  },
  {
   "cell_type": "code",
   "execution_count": null,
   "metadata": {},
   "outputs": [],
   "source": [
    "plotDMRs(combined_data.filtered,\n",
    "         regions=dmrs[1,], \n",
    "         testCovariate=\"condition\",\n",
    "         annoTrack=annotation)"
   ]
  },
  {
   "cell_type": "markdown",
   "metadata": {},
   "source": [
    "# Detecting large-scale methylation blocks"
   ]
  },
  {
   "cell_type": "markdown",
   "metadata": {},
   "source": [
    "In some applications, such as cancer, it is of interest to effectively ‘zoom out’ in order to detect larger (lower-resolution) methylation blocks on the order of hundreds of thousands to millions of bases. "
   ]
  },
  {
   "cell_type": "code",
   "execution_count": null,
   "metadata": {},
   "outputs": [],
   "source": [
    "# run the results for a subset of 300,000 CpGs in the interest of computation time.\n",
    "# Run with a single core if it fails on multiple cores\n",
    "blocks <- dmrseq(bs=combined_data.filtered[120001:420000,],\n",
    "                 cutoff = 0.05,\n",
    "                 testCovariate='condition',\n",
    "                 block = TRUE,\n",
    "                 BPPARAM = MulticoreParam(workers = 1),\n",
    "                 minInSpan = 500,\n",
    "                 bpSpan = 5e4,\n",
    "                 maxGapSmooth = 1e6,\n",
    "                 maxGap = 5e3)"
   ]
  },
  {
   "cell_type": "code",
   "execution_count": null,
   "metadata": {},
   "outputs": [],
   "source": [
    "show(blocks)"
   ]
  },
  {
   "cell_type": "markdown",
   "metadata": {},
   "source": [
    "Let's also plot the top methylation block from the block analysis:"
   ]
  },
  {
   "cell_type": "code",
   "execution_count": null,
   "metadata": {},
   "outputs": [],
   "source": [
    "plotDMRs(combined_data.filtered, \n",
    "         regions=blocks[1,], \n",
    "         testCovariate=\"condition\",\n",
    "         annoTrack=annotation)"
   ]
  },
  {
   "cell_type": "markdown",
   "metadata": {},
   "source": [
    "<br/>"
   ]
  },
  {
   "cell_type": "markdown",
   "metadata": {},
   "source": [
    "This last DMR plot concludes this tutorial on DNA methylation analysis with the `BSseq` and `dmrseq` R packages. For more information, feel free to check the official <a href=\"http://bioconductor.org/packages/release/bioc/vignettes/bsseq/inst/doc/bsseq_analysis.html\" target=\"_blank\"> BSseq</a> and <a href=\"https://bioconductor.org/packages/devel/bioc/vignettes/dmrseq/inst/doc/dmrseq.html\" target=\"_blank\">dmrseq</a> tutorials."
   ]
  }
 ],
 "metadata": {
  "kernelspec": {
   "display_name": "R",
   "language": "R",
   "name": "ir"
  },
  "language_info": {
   "codemirror_mode": "r",
   "file_extension": ".r",
   "mimetype": "text/x-r-source",
   "name": "R",
   "pygments_lexer": "r",
   "version": "3.6.0"
  }
 },
 "nbformat": 4,
 "nbformat_minor": 2
}
