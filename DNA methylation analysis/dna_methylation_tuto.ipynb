{
 "cells": [
  {
   "cell_type": "markdown",
   "metadata": {},
   "source": [
    "# DNA methylation tutorial: Data Analysis\n",
    "*by Roseric Azondekon, PhD*\n",
    "\n",
    "**06/04/2019**"
   ]
  },
  {
   "cell_type": "markdown",
   "metadata": {},
   "source": [
    "<br/>In a previous tutorial, we showed you how to download and process Bisulfite-seq DNA methylation FASTQ files for read alignment on a reference sequence. In this tutorial, we show you how to run DNA methylation analysis using the `methylKit` package in `R`.\n",
    "\n",
    "We set our working directory to the `tuto` folder created in our first tutorial."
   ]
  },
  {
   "cell_type": "code",
   "execution_count": null,
   "metadata": {},
   "outputs": [],
   "source": [
    "setwd('./tuto')"
   ]
  },
  {
   "cell_type": "markdown",
   "metadata": {},
   "source": [
    "Now, let's install all the required packages for this tutorial."
   ]
  },
  {
   "cell_type": "code",
   "execution_count": null,
   "metadata": {},
   "outputs": [],
   "source": [
    "# Indicate package repositories to R...\n",
    "repositories <- c(\"https://cloud.r-project.org\", \n",
    "                   \"https://bioconductor.org/packages/3.7/bioc\",\n",
    "                   \"https://bioconductor.org/packages/3.7/data/annotation\", \n",
    "                   \"https://bioconductor.org/packages/3.7/data/experiment\",\n",
    "                   \"https://www.stats.ox.ac.uk/pub/RWin\", \n",
    "                   \"http://www.omegahat.net/R\", \n",
    "                   \"https://R-Forge.R-project.org\",\n",
    "                   \"https://www.rforge.net\", \n",
    "                   \"https://cloud.r-project.org\", \n",
    "                   \"http://www.bioconductor.org\",\n",
    "                   \"http://www.stats.ox.ac.uk/pub/RWin\")\n",
    "\n",
    "# Package list to download\n",
    "packages <- c(\"BiocGenerics\",\"Biobase\",\"S4Vectors\",\"IRanges\",\n",
    "              \"GenomicRanges\",\"GenomeInfoDb\",\"AnnotationDbi\", \n",
    "              \"genomation\", \"fastseg\", \"methylKit\")\n",
    "\n",
    "# Install and load missing packages\n",
    "new.packages <- packages[!(packages %in% installed.packages()[,\"Package\"])]\n",
    "\n",
    "if(length(new.packages)){\n",
    "    install.packages(new.packages, repos = repositories)\n",
    "}\n",
    "\n",
    "lapply(packages, require, character.only = TRUE)"
   ]
  },
  {
   "cell_type": "markdown",
   "metadata": {},
   "source": [
    "# Obtaining methylation percentage from sorted Bismark alignments"
   ]
  },
  {
   "cell_type": "markdown",
   "metadata": {},
   "source": [
    "We read in the methylation calls directly from the `SAM` files obtained from the last tutoral. The SAM files must be sorted and be generated from Bismark aligner. For that purpose, we use the `processBismarkAln` function from the `methylKit` package as described below:"
   ]
  },
  {
   "cell_type": "code",
   "execution_count": null,
   "metadata": {},
   "outputs": [],
   "source": [
    "# Find all sorted SAM files\n",
    "file_loc <- file.path(getwd(),'alignment_Bismark')\n",
    "file.list <- as.list(list.files(file_loc, \"\\\\.sort.sam$\",\n",
    "                                full.names = TRUE, recursive = TRUE))\n",
    "file.list"
   ]
  },
  {
   "cell_type": "markdown",
   "metadata": {},
   "source": [
    "Now, let's read in the methylation data from the `SAM` files (*this has to be run once*).\n",
    "\n",
    "**This may take a long time!**"
   ]
  },
  {
   "cell_type": "code",
   "execution_count": null,
   "metadata": {},
   "outputs": [],
   "source": [
    "# Read the methylation data into an object (Has to be run once)\n",
    "metyl.obj <- processBismarkAln(file.list, \n",
    "                               sample.id = list(\"normal1\",\"normal2\",\n",
    "                                                \"cancer1\",\"cancer2\"),\n",
    "                               treatment = c(0,0,1,1),\n",
    "                               assembly = \"hg38\",\n",
    "                               read.context = \"CpG\",\n",
    "                               save.folder = file.path(getwd(),'methylation_calls'))"
   ]
  },
  {
   "cell_type": "code",
   "execution_count": null,
   "metadata": {},
   "outputs": [],
   "source": [
    "head(metyl.obj,3)"
   ]
  },
  {
   "cell_type": "markdown",
   "metadata": {},
   "source": [
    "When already computed, the set of methylation call files can be imported using the `methRead` function provided by the `methylKit` package."
   ]
  },
  {
   "cell_type": "code",
   "execution_count": null,
   "metadata": {},
   "outputs": [],
   "source": [
    "# This code may be run if the methylation call files already exist\n",
    "file_loc2 <- file.path(getwd(),'methylation_calls')\n",
    "file.list2 <- as.list(list.files(file_loc2, \"\\\\CpG.txt$\",\n",
    "                                 full.names = TRUE,\n",
    "                                 recursive = TRUE))\n",
    "file.list2"
   ]
  },
  {
   "cell_type": "code",
   "execution_count": null,
   "metadata": {},
   "outputs": [],
   "source": [
    "methyl.obj2 <- methRead(file.list2,\n",
    "                       sample.id = list(\"cancer1\",\"cancer2\",\n",
    "                                        \"normal1\",\"normal2\"), \n",
    "                       treatment=c(1,1,0,0), \n",
    "                       assembly = \"hg38\")"
   ]
  },
  {
   "cell_type": "code",
   "execution_count": null,
   "metadata": {},
   "outputs": [],
   "source": [
    "head(methyl.obj2,3)"
   ]
  },
  {
   "cell_type": "markdown",
   "metadata": {},
   "source": [
    "# Quality check and basic features of the data"
   ]
  },
  {
   "cell_type": "markdown",
   "metadata": {},
   "source": [
    "Let's check the basic stats about the methylation data such as coverage and percent methylation."
   ]
  },
  {
   "cell_type": "code",
   "execution_count": null,
   "metadata": {},
   "outputs": [],
   "source": [
    "# Descriptive statistics on the samples\n",
    "getMethylationStats(metyl.obj[[1]], plot = F, both.strands = F) # normal1\n",
    "getMethylationStats(metyl.obj[[2]], plot = F, both.strands = F) # normal2\n",
    "getMethylationStats(metyl.obj[[3]], plot = F, both.strands = F) # cancer1\n",
    "getMethylationStats(metyl.obj[[4]], plot = F, both.strands = F) # cancer2"
   ]
  },
  {
   "cell_type": "code",
   "execution_count": null,
   "metadata": {},
   "outputs": [],
   "source": [
    "# Histogram of % CpG methylation\n",
    "getMethylationStats(metyl.obj[[1]], plot = T, both.strands = F) # normal1\n",
    "getMethylationStats(metyl.obj[[2]], plot = T, both.strands = F) # normal2\n",
    "getMethylationStats(metyl.obj[[3]], plot = T, both.strands = F) # cancer1\n",
    "getMethylationStats(metyl.obj[[4]], plot = T, both.strands = F) # cancer2"
   ]
  },
  {
   "cell_type": "markdown",
   "metadata": {},
   "source": [
    "On the histograms above, the numbers on bars represent the percentage of locations that are contained in that bin. Percent methylation histogram are expected to have two peaks on both ends."
   ]
  },
  {
   "cell_type": "markdown",
   "metadata": {},
   "source": [
    "Alternatively, the histogram of the read coverage per base information can be plotted as well. Experiments that are highly suffering from PCR duplication bias are expected to have a secondary peak towards the right hand side of the\n",
    "histogram."
   ]
  },
  {
   "cell_type": "code",
   "execution_count": null,
   "metadata": {},
   "outputs": [],
   "source": [
    "# Histogram of CpG coverage\n",
    "getCoverageStats(metyl.obj[[1]], plot = T, both.strands = F) # normal1\n",
    "getCoverageStats(metyl.obj[[2]], plot = T, both.strands = F) # normal2\n",
    "getCoverageStats(metyl.obj[[3]], plot = T, both.strands = F) # cancer1\n",
    "getCoverageStats(metyl.obj[[4]], plot = T, both.strands = F) # cancer2"
   ]
  },
  {
   "cell_type": "markdown",
   "metadata": {},
   "source": [
    "# Filtering samples based on read coverage"
   ]
  },
  {
   "cell_type": "markdown",
   "metadata": {},
   "source": [
    "It is a good practice to filter samples based on coverage, and discard bases that have coverage below 10X bases that have more than 99.9th percentile of coverage in each sample. This can be achieved with the following code:"
   ]
  },
  {
   "cell_type": "code",
   "execution_count": null,
   "metadata": {},
   "outputs": [],
   "source": [
    "filtered.metyl.obj <- filterByCoverage(metyl.obj, \n",
    "                                       lo.count = 10,\n",
    "                                       lo.perc = NULL,\n",
    "                                       hi.count = NULL,\n",
    "                                       hi.perc = 99.9)"
   ]
  },
  {
   "cell_type": "markdown",
   "metadata": {},
   "source": [
    "Let's assess once again the basic stats about the methylation data such as coverage and percent methylation."
   ]
  },
  {
   "cell_type": "code",
   "execution_count": null,
   "metadata": {},
   "outputs": [],
   "source": [
    "# Histogram of % CpG methylation\n",
    "getMethylationStats(filtered.metyl.obj[[1]], plot = T, both.strands = F) # normal1\n",
    "getMethylationStats(filtered.metyl.obj[[2]], plot = T, both.strands = F) # normal2\n",
    "getMethylationStats(filtered.metyl.obj[[3]], plot = T, both.strands = F) # cancer1\n",
    "getMethylationStats(filtered.metyl.obj[[4]], plot = T, both.strands = F) # cancer2"
   ]
  },
  {
   "cell_type": "code",
   "execution_count": null,
   "metadata": {},
   "outputs": [],
   "source": [
    "# Histogram of CpG coverage\n",
    "getCoverageStats(filtered.metyl.obj[[1]], plot = T, both.strands = F) # normal1\n",
    "getCoverageStats(filtered.metyl.obj[[2]], plot = T, both.strands = F) # normal2\n",
    "getCoverageStats(filtered.metyl.obj[[3]], plot = T, both.strands = F) # cancer1\n",
    "getCoverageStats(filtered.metyl.obj[[4]], plot = T, both.strands = F) # cancer2"
   ]
  },
  {
   "cell_type": "markdown",
   "metadata": {},
   "source": [
    "# Sample correlation"
   ]
  },
  {
   "cell_type": "markdown",
   "metadata": {},
   "source": [
    "To conduct sample correlation, we will need to merge all samples to one object for base-pair locations that are covered in all samples."
   ]
  },
  {
   "cell_type": "code",
   "execution_count": null,
   "metadata": {},
   "outputs": [],
   "source": [
    "# Merging all samples\n",
    "merged.obj = unite(filtered.metyl.obj, destrand = FALSE)\n",
    "# Taking a glance at the data...\n",
    "head(merged.obj,3)"
   ]
  },
  {
   "cell_type": "markdown",
   "metadata": {},
   "source": [
    "The sample correlation is computed using the `getCorrelation` function availble in `methylKit`."
   ]
  },
  {
   "cell_type": "code",
   "execution_count": null,
   "metadata": {},
   "outputs": [],
   "source": [
    "# Sample correlation\n",
    "getCorrelation(merged.obj, plot = T)"
   ]
  },
  {
   "cell_type": "markdown",
   "metadata": {},
   "source": [
    "# Clustering samples"
   ]
  },
  {
   "cell_type": "markdown",
   "metadata": {},
   "source": [
    "The `clusterSamples` function in `methylKit` can be used to perform the hierarchical clustering of the samples based on their methylation profiles."
   ]
  },
  {
   "cell_type": "code",
   "execution_count": null,
   "metadata": {},
   "outputs": [],
   "source": [
    "clusterSamples(merged.obj, dist = \"correlation\", method = \"ward\", plot=T)"
   ]
  },
  {
   "cell_type": "markdown",
   "metadata": {},
   "source": [
    "Principal Component Analysis (PCA) is another available method to cluster the samples. We perform PCA using the the `PCASamples` function, then plot the Screeplot."
   ]
  },
  {
   "cell_type": "code",
   "execution_count": null,
   "metadata": {},
   "outputs": [],
   "source": [
    "# Screeplot (PCA analysis) \n",
    "PCASamples(merged.obj, screeplot = TRUE)"
   ]
  },
  {
   "cell_type": "markdown",
   "metadata": {},
   "source": [
    "Here, we plot PC1 (principal component 1) and PC2 (principal component 2) axis and a scatter plot of our samples on those axis which reveals how they cluster."
   ]
  },
  {
   "cell_type": "code",
   "execution_count": null,
   "metadata": {},
   "outputs": [],
   "source": [
    "# Scatterplot (PCA analysis)\n",
    "PCASamples(merged.obj)"
   ]
  },
  {
   "cell_type": "markdown",
   "metadata": {},
   "source": [
    "# Getting differentially methylated bases"
   ]
  },
  {
   "cell_type": "markdown",
   "metadata": {},
   "source": [
    "The function `calculateDiffMeth` is the main function to calculate differential methylation."
   ]
  },
  {
   "cell_type": "code",
   "execution_count": null,
   "metadata": {},
   "outputs": [],
   "source": [
    "# Finding differentially methylated bases or \n",
    "# regions (using 8 cores for faster calculations)\n",
    "methyl.diff <- calculateDiffMeth(merged.obj, num.cores = 8)"
   ]
  },
  {
   "cell_type": "markdown",
   "metadata": {},
   "source": [
    "Following bit selects the bases that have q-value < 0.01 and percent methylation difference larger than 25%."
   ]
  },
  {
   "cell_type": "code",
   "execution_count": null,
   "metadata": {},
   "outputs": [],
   "source": [
    "# get hyper methylated bases\n",
    "myDiff25p.hyper <- getMethylDiff(methyl.diff,\n",
    "                                 difference = 25,\n",
    "                                 qvalue = 0.01,\n",
    "                                 type = \"hyper\")\n",
    "\n",
    "# get hypo methylated bases\n",
    "myDiff25p.hypo <- getMethylDiff(methyl.diff,\n",
    "                                difference = 25,\n",
    "                                qvalue = 0.01,\n",
    "                                type = \"hypo\")\n",
    "\n",
    "# get all differentially methylated bases\n",
    "myDiff25p <- getMethylDiff(methyl.diff,\n",
    "                           difference = 25,\n",
    "                           qvalue = 0.01)"
   ]
  },
  {
   "cell_type": "markdown",
   "metadata": {},
   "source": [
    "The package `methylKit` can summarize methylation information over tiling windows or over a set of predefined regions (promoters, CpG islands, introns, etc.) rather than doing base-pair resolution analysis."
   ]
  },
  {
   "cell_type": "code",
   "execution_count": null,
   "metadata": {},
   "outputs": [],
   "source": [
    "tiles <- tileMethylCounts(merged.obj, win.size = 1000, step.size = 1000)\n",
    "head(tiles, 3)"
   ]
  },
  {
   "cell_type": "markdown",
   "metadata": {},
   "source": [
    "# Differential methylation events per chromosome"
   ]
  },
  {
   "cell_type": "markdown",
   "metadata": {},
   "source": [
    "We can also visualize the distribution of hypo/hyper-methylated bases/regions per chromosome using the `diffMethPerChr` function."
   ]
  },
  {
   "cell_type": "code",
   "execution_count": null,
   "metadata": {},
   "outputs": [],
   "source": [
    "# Return a list having per chromosome\n",
    "# differentially methylation events will be returned\n",
    "diffMethPerChr(methyl.diff,\n",
    "               plot = FALSE,\n",
    "               qvalue.cutoff = 0.01,\n",
    "               meth.cutoff = 25)"
   ]
  },
  {
   "cell_type": "code",
   "execution_count": null,
   "metadata": {},
   "outputs": [],
   "source": [
    "# visualize the distribution of hypo/hyper-methylated\n",
    "# bases/regions per chromosome\n",
    "diffMethPerChr(methyl.diff,\n",
    "               plot = T,\n",
    "               qvalue.cutoff = 0.01,\n",
    "               meth.cutoff = 25)"
   ]
  },
  {
   "cell_type": "markdown",
   "metadata": {},
   "source": [
    "# Annotating differential methylation events"
   ]
  },
  {
   "cell_type": "markdown",
   "metadata": {},
   "source": [
    "We can annotate our differentially methylated regions/bases based on gene annotation. We need to read the gene annotation from a bed file and annotate our differentially methylated regions with that information. Similar gene annotation can be created using `GenomicFeatures` package available from Bioconductor.\n",
    "\n",
    "Let's first download an annotation `.bed` file in the `annotation` folder created in our first tutorial on DNA methylation. We get ours from <a href=\"https://sourceforge.net/projects/rseqc/files/BED/Human_Homo_sapiens/\" target=\"_blank\">sourceforge.net</a>."
   ]
  },
  {
   "cell_type": "code",
   "execution_count": null,
   "metadata": {},
   "outputs": [],
   "source": [
    "url <- \"https://sourceforge.net/projects/rseqc/files/BED/Human_Homo_sapiens/\"\n",
    "system(paste(\"wget -P annotation\",url,\"hg38_RefSeq.bed.gz\"))"
   ]
  },
  {
   "cell_type": "code",
   "execution_count": null,
   "metadata": {},
   "outputs": [],
   "source": [
    "gene.obj <- readTranscriptFeatures(file.path(getwd(),\n",
    "                                             \"annotation\",\n",
    "                                             \"hg38_RefSeq.bed.gz\"))"
   ]
  },
  {
   "cell_type": "code",
   "execution_count": null,
   "metadata": {},
   "outputs": [],
   "source": [
    "annotateWithGeneParts(as(myDiff25p,\"GRanges\"),gene.obj)"
   ]
  },
  {
   "cell_type": "markdown",
   "metadata": {},
   "source": [
    "Similarly, we can read the CpG island annotation and annotate our differentially methylated bases/regions with them."
   ]
  },
  {
   "cell_type": "code",
   "execution_count": null,
   "metadata": {},
   "outputs": [],
   "source": [
    "# read the shores and flanking regions and name the flanks as shores \n",
    "# and CpG islands as CpGi\n",
    "cpg.obj <- readFeatureFlank(file.path(getwd(),\"annotation\",\"hg38_RefSeq.bed.gz\"),\n",
    "                            feature.flank.name=c(\"CpGi\",\"shores\"))"
   ]
  },
  {
   "cell_type": "code",
   "execution_count": null,
   "metadata": {},
   "outputs": [],
   "source": [
    "# convert methylDiff object to GRanges and annotate\n",
    "diffCpGann <- annotateWithFeatureFlank(as(myDiff25p,\"GRanges\"), \n",
    "                                       cpg.obj$CpGi,\n",
    "                                       cpg.obj$shores,\n",
    "                                       feature.name=\"CpGi\",\n",
    "                                       flank.name=\"shores\")"
   ]
  },
  {
   "cell_type": "code",
   "execution_count": null,
   "metadata": {},
   "outputs": [],
   "source": [
    "diffCpGann"
   ]
  },
  {
   "cell_type": "markdown",
   "metadata": {},
   "source": [
    "# Regional analysis"
   ]
  },
  {
   "cell_type": "markdown",
   "metadata": {},
   "source": [
    "We now summarize methylation information over a set of defined regions such as promoters or CpG islands with the `regionCounts` function."
   ]
  },
  {
   "cell_type": "code",
   "execution_count": null,
   "metadata": {},
   "outputs": [],
   "source": [
    "promoters <- regionCounts(metyl.obj,gene.obj$promoters)\n",
    "head(promoters[[1]])"
   ]
  },
  {
   "cell_type": "markdown",
   "metadata": {},
   "source": [
    "# Getting the distance to TSS and nearest gene name"
   ]
  },
  {
   "cell_type": "markdown",
   "metadata": {},
   "source": [
    "After getting the annotation of differentially methylated regions, we can get the distance to TSS and nearest gene name using the  `getAssociationWithTSS` function from genomation package."
   ]
  },
  {
   "cell_type": "code",
   "execution_count": null,
   "metadata": {},
   "outputs": [],
   "source": [
    "diffAnn <- annotateWithGeneParts(as(myDiff25p, \"GRanges\"), gene.obj)\n",
    "\n",
    "# target.row is the row number in myDiff25p\n",
    "head(getAssociationWithTSS(diffAnn),3)"
   ]
  },
  {
   "cell_type": "markdown",
   "metadata": {},
   "source": [
    "Getting the percentage/number of differentially methylated regions that overlap with intron/exon/promoters:"
   ]
  },
  {
   "cell_type": "code",
   "execution_count": null,
   "metadata": {},
   "outputs": [],
   "source": [
    "genomation::getTargetAnnotationStats(diffAnn, \n",
    "                                     percentage=TRUE,\n",
    "                                     precedence=TRUE)"
   ]
  },
  {
   "cell_type": "markdown",
   "metadata": {},
   "source": [
    "# Working with annotated methylation events"
   ]
  },
  {
   "cell_type": "markdown",
   "metadata": {},
   "source": [
    "We can also plot the percentage of differentially methylated bases overlapping with exon/intron/promoters"
   ]
  },
  {
   "cell_type": "code",
   "execution_count": null,
   "metadata": {},
   "outputs": [],
   "source": [
    "genomation::plotTargetAnnotation(diffAnn, \n",
    "                                 precedence = TRUE, \n",
    "                                 main = \"Differential methylation annotation\")"
   ]
  },
  {
   "cell_type": "markdown",
   "metadata": {},
   "source": [
    "It is also possible to plot the CpG island annotation showing the percentage of differentially methylated bases that are on CpG islands, CpG island shores and other regions."
   ]
  },
  {
   "cell_type": "code",
   "execution_count": null,
   "metadata": {},
   "outputs": [],
   "source": [
    "genomation::plotTargetAnnotation(diffCpGann, \n",
    "                                 col = c(\"green\", \"gray\", \"white\"), \n",
    "                                 main = \"differential methylation annotation\")"
   ]
  }
 ],
 "metadata": {
  "kernelspec": {
   "display_name": "R",
   "language": "R",
   "name": "ir"
  },
  "language_info": {
   "codemirror_mode": "r",
   "file_extension": ".r",
   "mimetype": "text/x-r-source",
   "name": "R",
   "pygments_lexer": "r",
   "version": "3.6.0"
  }
 },
 "nbformat": 4,
 "nbformat_minor": 2
}
